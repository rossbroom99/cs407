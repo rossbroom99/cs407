{
 "cells": [
  {
   "cell_type": "code",
   "execution_count": 35,
   "metadata": {},
   "outputs": [],
   "source": [
    "from verispy import VERIS\n",
    "# data_dir = \"F:\\\\unay\\\\4th\\\\cs\\\\sec\\\\VCDB\\\\data\\\\json\\\\validated\"\n",
    "data_dir = \"C:\\\\Users\\\\Fraser\\\\VCDB\\\\data\\\\json\\\\validated\""
   ]
  },
  {
   "cell_type": "code",
   "execution_count": 108,
   "metadata": {},
   "outputs": [
    {
     "name": "stdout",
     "output_type": "stream",
     "text": [
      "Found 8622 json files.\n"
     ]
    }
   ],
   "source": [
    "v = VERIS(json_dir=data_dir)\n",
    "schema_path = \"C:\\\\Users\\\\Fraser\\\\VCDB\\\\verisc-merged.json\""
   ]
  },
  {
   "cell_type": "code",
   "execution_count": 109,
   "metadata": {},
   "outputs": [
    {
     "name": "stderr",
     "output_type": "stream",
     "text": [
      "  8%|██████▍                                                                      | 717/8622 [00:00<00:01, 5941.47it/s]"
     ]
    },
    {
     "name": "stdout",
     "output_type": "stream",
     "text": [
      "Loading schema\n",
      "Loading JSON files to DataFrame.\n"
     ]
    },
    {
     "name": "stderr",
     "output_type": "stream",
     "text": [
      "100%|████████████████████████████████████████████████████████████████████████████| 8622/8622 [00:01<00:00, 8163.24it/s]\n",
      "  6%|████▋                                                                            | 10/173 [00:00<00:02, 72.66it/s]"
     ]
    },
    {
     "name": "stdout",
     "output_type": "stream",
     "text": [
      "Finished loading JSON files to dataframe.\n",
      "Building DataFrame with enumerations.\n",
      "Building enumeration columns.\n"
     ]
    },
    {
     "name": "stderr",
     "output_type": "stream",
     "text": [
      "100%|████████████████████████████████████████████████████████████████████████████████| 173/173 [00:07<00:00, 24.54it/s]\n"
     ]
    },
    {
     "name": "stdout",
     "output_type": "stream",
     "text": [
      "Done building DataFrame with enumerations.\n",
      "Post-Processing DataFrame (A4 Names, Victim Industries, Patterns)\n",
      "Finished building VERIS DataFrame\n"
     ]
    }
   ],
   "source": [
    "df = v.json_to_df(verbose=True, schema_path=schema_path)"
   ]
  },
  {
   "cell_type": "markdown",
   "metadata": {},
   "source": [
    "## How do internal and external attacks compare?"
   ]
  },
  {
   "cell_type": "markdown",
   "metadata": {},
   "source": [
    "#### Basic Internal and External Statistics"
   ]
  },
  {
   "cell_type": "code",
   "execution_count": 136,
   "metadata": {},
   "outputs": [],
   "source": [
    "#internal = v.enum_summary(df, 'actor.internal.variety', by='actor')\n",
    "#external = v.enum_summary(df, 'actor.external.variety', by='actor')\n",
    "actors = v.enum_summary(df, 'actor')\n",
    "actors = actors[['enum', 'x']]\n",
    "actors.columns = ['Actor Type', 'Count']\n",
    "actors = actors.drop(2)\n",
    "actors = actors.drop(3)\n"
   ]
  },
  {
   "cell_type": "code",
   "execution_count": 137,
   "metadata": {},
   "outputs": [
    {
     "data": {
      "text/plain": [
       "(3000.0, 4500.0)"
      ]
     },
     "execution_count": 137,
     "metadata": {},
     "output_type": "execute_result"
    },
    {
     "data": {
      "image/png": "[encoded data removed]",
      "text/plain": [
       "<Figure size 432x288 with 1 Axes>"
      ]
     },
     "metadata": {
      "needs_background": "light"
     },
     "output_type": "display_data"
    }
   ],
   "source": [
    "import matplotlib.pyplot as plt\n",
    "from matplotlib import cm\n",
    "\n",
    "\n",
    "ax = actors['Count'].plot(kind=\"bar\")\n",
    "plt.xlabel(\"Actor Type\")\n",
    "plt.ylabel(\"Count\")\n",
    "plt.title(\"Internal VS External Count\")\n",
    "ax.set_xticklabels([\"External\", \"Internal\"])\n",
    "plt.ylim(3000, 4500)"
   ]
  },
  {
   "cell_type": "code",
   "execution_count": 96,
   "metadata": {},
   "outputs": [
    {
     "data": {
      "text/html": [
       "<div>\n",
       "<style scoped>\n",
       "    .dataframe tbody tr th:only-of-type {\n",
       "        vertical-align: middle;\n",
       "    }\n",
       "\n",
       "    .dataframe tbody tr th {\n",
       "        vertical-align: top;\n",
       "    }\n",
       "\n",
       "    .dataframe thead th {\n",
       "        text-align: right;\n",
       "    }\n",
       "</style>\n",
       "<table border=\"1\" class=\"dataframe\">\n",
       "  <thead>\n",
       "    <tr style=\"text-align: right;\">\n",
       "      <th></th>\n",
       "      <th>internal Actor Motive</th>\n",
       "      <th>Count</th>\n",
       "      <th>Percentage</th>\n",
       "    </tr>\n",
       "  </thead>\n",
       "  <tbody>\n",
       "    <tr>\n",
       "      <th>1</th>\n",
       "      <td>Financial</td>\n",
       "      <td>758</td>\n",
       "      <td>56.7</td>\n",
       "    </tr>\n",
       "    <tr>\n",
       "      <th>2</th>\n",
       "      <td>Fun</td>\n",
       "      <td>267</td>\n",
       "      <td>20.0</td>\n",
       "    </tr>\n",
       "    <tr>\n",
       "      <th>3</th>\n",
       "      <td>Convenience</td>\n",
       "      <td>90</td>\n",
       "      <td>6.7</td>\n",
       "    </tr>\n",
       "    <tr>\n",
       "      <th>4</th>\n",
       "      <td>Espionage</td>\n",
       "      <td>83</td>\n",
       "      <td>6.2</td>\n",
       "    </tr>\n",
       "    <tr>\n",
       "      <th>5</th>\n",
       "      <td>Grudge</td>\n",
       "      <td>73</td>\n",
       "      <td>5.5</td>\n",
       "    </tr>\n",
       "    <tr>\n",
       "      <th>6</th>\n",
       "      <td>Other</td>\n",
       "      <td>44</td>\n",
       "      <td>3.3</td>\n",
       "    </tr>\n",
       "    <tr>\n",
       "      <th>7</th>\n",
       "      <td>Ideology</td>\n",
       "      <td>18</td>\n",
       "      <td>1.3</td>\n",
       "    </tr>\n",
       "    <tr>\n",
       "      <th>8</th>\n",
       "      <td>Fear</td>\n",
       "      <td>4</td>\n",
       "      <td>0.3</td>\n",
       "    </tr>\n",
       "    <tr>\n",
       "      <th>9</th>\n",
       "      <td>Secondary</td>\n",
       "      <td>0</td>\n",
       "      <td>0.0</td>\n",
       "    </tr>\n",
       "  </tbody>\n",
       "</table>\n",
       "</div>"
      ],
      "text/plain": [
       "  internal Actor Motive  Count  Percentage\n",
       "1             Financial    758        56.7\n",
       "2                   Fun    267        20.0\n",
       "3           Convenience     90         6.7\n",
       "4             Espionage     83         6.2\n",
       "5                Grudge     73         5.5\n",
       "6                 Other     44         3.3\n",
       "7              Ideology     18         1.3\n",
       "8                  Fear      4         0.3\n",
       "9             Secondary      0         0.0"
      ]
     },
     "execution_count": 96,
     "metadata": {},
     "output_type": "execute_result"
    }
   ],
   "source": [
    "\n",
    "\n",
    "internal = v.enum_summary(df, 'actor.internal.motive')\n",
    "internal = internal.drop(internal.index[0])\n",
    "internal = internal.drop(10)\n",
    "internal = internal[['enum', 'x']]\n",
    "internal.columns = ['internal Actor Motive', 'Count']\n",
    "\n",
    "def avg(x):\n",
    "    total = internal['Count'].sum()\n",
    "    return round((x / total) * 100, 1)\n",
    "\n",
    "internal['Percentage'] = internal['Count'].apply(lambda x: avg(x))\n",
    "internal = internal.sort_values(by='Percentage', ascending=False)\n",
    "\n",
    "internal.head(20)"
   ]
  },
  {
   "cell_type": "code",
   "execution_count": 97,
   "metadata": {},
   "outputs": [
    {
     "data": {
      "text/html": [
       "<div>\n",
       "<style scoped>\n",
       "    .dataframe tbody tr th:only-of-type {\n",
       "        vertical-align: middle;\n",
       "    }\n",
       "\n",
       "    .dataframe tbody tr th {\n",
       "        vertical-align: top;\n",
       "    }\n",
       "\n",
       "    .dataframe thead th {\n",
       "        text-align: right;\n",
       "    }\n",
       "</style>\n",
       "<table border=\"1\" class=\"dataframe\">\n",
       "  <thead>\n",
       "    <tr style=\"text-align: right;\">\n",
       "      <th></th>\n",
       "      <th>External Actor Motive</th>\n",
       "      <th>Count</th>\n",
       "      <th>Percentage</th>\n",
       "    </tr>\n",
       "  </thead>\n",
       "  <tbody>\n",
       "    <tr>\n",
       "      <th>0</th>\n",
       "      <td>Financial</td>\n",
       "      <td>2045</td>\n",
       "      <td>65.9</td>\n",
       "    </tr>\n",
       "    <tr>\n",
       "      <th>1</th>\n",
       "      <td>Ideology</td>\n",
       "      <td>387</td>\n",
       "      <td>12.5</td>\n",
       "    </tr>\n",
       "    <tr>\n",
       "      <th>2</th>\n",
       "      <td>Espionage</td>\n",
       "      <td>283</td>\n",
       "      <td>9.1</td>\n",
       "    </tr>\n",
       "    <tr>\n",
       "      <th>3</th>\n",
       "      <td>Fun</td>\n",
       "      <td>240</td>\n",
       "      <td>7.7</td>\n",
       "    </tr>\n",
       "    <tr>\n",
       "      <th>4</th>\n",
       "      <td>Grudge</td>\n",
       "      <td>109</td>\n",
       "      <td>3.5</td>\n",
       "    </tr>\n",
       "    <tr>\n",
       "      <th>6</th>\n",
       "      <td>Other</td>\n",
       "      <td>22</td>\n",
       "      <td>0.7</td>\n",
       "    </tr>\n",
       "    <tr>\n",
       "      <th>7</th>\n",
       "      <td>Secondary</td>\n",
       "      <td>13</td>\n",
       "      <td>0.4</td>\n",
       "    </tr>\n",
       "    <tr>\n",
       "      <th>8</th>\n",
       "      <td>Fear</td>\n",
       "      <td>4</td>\n",
       "      <td>0.1</td>\n",
       "    </tr>\n",
       "    <tr>\n",
       "      <th>9</th>\n",
       "      <td>Convenience</td>\n",
       "      <td>1</td>\n",
       "      <td>0.0</td>\n",
       "    </tr>\n",
       "  </tbody>\n",
       "</table>\n",
       "</div>"
      ],
      "text/plain": [
       "  External Actor Motive  Count  Percentage\n",
       "0             Financial   2045        65.9\n",
       "1              Ideology    387        12.5\n",
       "2             Espionage    283         9.1\n",
       "3                   Fun    240         7.7\n",
       "4                Grudge    109         3.5\n",
       "6                 Other     22         0.7\n",
       "7             Secondary     13         0.4\n",
       "8                  Fear      4         0.1\n",
       "9           Convenience      1         0.0"
      ]
     },
     "execution_count": 97,
     "metadata": {},
     "output_type": "execute_result"
    }
   ],
   "source": [
    "external = v.enum_summary(df, 'actor.external.motive')\n",
    "external = external.drop(10)\n",
    "external = external.drop(5)\n",
    "external = external[['enum', 'x']]\n",
    "external.columns = ['External Actor Motive', 'Count']\n",
    "\n",
    "def avg(x):\n",
    "    total = external['Count'].sum()\n",
    "    return round((x / total) * 100, 1)\n",
    "\n",
    "external['Percentage'] = external['Count'].apply(lambda x: avg(x))\n",
    "external = external.sort_values(by='Percentage', ascending=False)\n",
    "external.head(20)"
   ]
  },
  {
   "cell_type": "code",
   "execution_count": 98,
   "metadata": {},
   "outputs": [
    {
     "data": {
      "text/html": [
       "<div>\n",
       "<style scoped>\n",
       "    .dataframe tbody tr th:only-of-type {\n",
       "        vertical-align: middle;\n",
       "    }\n",
       "\n",
       "    .dataframe tbody tr th {\n",
       "        vertical-align: top;\n",
       "    }\n",
       "\n",
       "    .dataframe thead th {\n",
       "        text-align: right;\n",
       "    }\n",
       "</style>\n",
       "<table border=\"1\" class=\"dataframe\">\n",
       "  <thead>\n",
       "    <tr style=\"text-align: right;\">\n",
       "      <th></th>\n",
       "      <th>enum</th>\n",
       "      <th>x</th>\n",
       "      <th>n</th>\n",
       "      <th>freq</th>\n",
       "    </tr>\n",
       "  </thead>\n",
       "  <tbody>\n",
       "    <tr>\n",
       "      <th>0</th>\n",
       "      <td>External</td>\n",
       "      <td>4379</td>\n",
       "      <td>8410.0</td>\n",
       "      <td>0.52069</td>\n",
       "    </tr>\n",
       "    <tr>\n",
       "      <th>1</th>\n",
       "      <td>Internal</td>\n",
       "      <td>3921</td>\n",
       "      <td>8410.0</td>\n",
       "      <td>0.46623</td>\n",
       "    </tr>\n",
       "    <tr>\n",
       "      <th>2</th>\n",
       "      <td>Partner</td>\n",
       "      <td>371</td>\n",
       "      <td>8410.0</td>\n",
       "      <td>0.04411</td>\n",
       "    </tr>\n",
       "    <tr>\n",
       "      <th>3</th>\n",
       "      <td>Unknown</td>\n",
       "      <td>212</td>\n",
       "      <td>NaN</td>\n",
       "      <td>NaN</td>\n",
       "    </tr>\n",
       "  </tbody>\n",
       "</table>\n",
       "</div>"
      ],
      "text/plain": [
       "       enum     x       n     freq\n",
       "0  External  4379  8410.0  0.52069\n",
       "1  Internal  3921  8410.0  0.46623\n",
       "2   Partner   371  8410.0  0.04411\n",
       "3   Unknown   212     NaN      NaN"
      ]
     },
     "execution_count": 98,
     "metadata": {},
     "output_type": "execute_result"
    }
   ],
   "source": [
    "actors = v.enum_summary(df, 'actor')\n",
    "actors.head()"
   ]
  },
  {
   "cell_type": "code",
   "execution_count": 99,
   "metadata": {},
   "outputs": [],
   "source": [
    "# cols = df.columns.values.tolist()\n",
    "# print(cols)"
   ]
  },
  {
   "cell_type": "code",
   "execution_count": 100,
   "metadata": {},
   "outputs": [
    {
     "data": {
      "text/plain": [
       "(3921, 2347)"
      ]
     },
     "execution_count": 100,
     "metadata": {},
     "output_type": "execute_result"
    }
   ],
   "source": [
    "internal = df[df['actor.Internal']]\n",
    "internal.head()\n",
    "internal.shape"
   ]
  },
  {
   "cell_type": "code",
   "execution_count": 101,
   "metadata": {},
   "outputs": [
    {
     "data": {
      "text/plain": [
       "(4379, 2347)"
      ]
     },
     "execution_count": 101,
     "metadata": {},
     "output_type": "execute_result"
    }
   ],
   "source": [
    "external = df[df['actor.External']]\n",
    "external.head()\n",
    "external.shape"
   ]
  },
  {
   "cell_type": "code",
   "execution_count": 102,
   "metadata": {},
   "outputs": [],
   "source": [
    "\n",
    "#print(df['impact.loss.rating.Major'].dtype)"
   ]
  },
  {
   "cell_type": "code",
   "execution_count": 47,
   "metadata": {},
   "outputs": [
    {
     "data": {
      "text/html": [
       "<div>\n",
       "<style scoped>\n",
       "    .dataframe tbody tr th:only-of-type {\n",
       "        vertical-align: middle;\n",
       "    }\n",
       "\n",
       "    .dataframe tbody tr th {\n",
       "        vertical-align: top;\n",
       "    }\n",
       "\n",
       "    .dataframe thead th {\n",
       "        text-align: right;\n",
       "    }\n",
       "</style>\n",
       "<table border=\"1\" class=\"dataframe\">\n",
       "  <thead>\n",
       "    <tr style=\"text-align: right;\">\n",
       "      <th></th>\n",
       "      <th>enum</th>\n",
       "      <th>x</th>\n",
       "      <th>n</th>\n",
       "      <th>freq</th>\n",
       "    </tr>\n",
       "  </thead>\n",
       "  <tbody>\n",
       "    <tr>\n",
       "      <th>0</th>\n",
       "      <td>1001 to 10000</td>\n",
       "      <td>589</td>\n",
       "      <td>2825.0</td>\n",
       "      <td>0.20850</td>\n",
       "    </tr>\n",
       "    <tr>\n",
       "      <th>1</th>\n",
       "      <td>101 to 1000</td>\n",
       "      <td>547</td>\n",
       "      <td>2825.0</td>\n",
       "      <td>0.19363</td>\n",
       "    </tr>\n",
       "    <tr>\n",
       "      <th>2</th>\n",
       "      <td>11 to 100</td>\n",
       "      <td>496</td>\n",
       "      <td>2825.0</td>\n",
       "      <td>0.17558</td>\n",
       "    </tr>\n",
       "    <tr>\n",
       "      <th>3</th>\n",
       "      <td>1 to 10</td>\n",
       "      <td>297</td>\n",
       "      <td>2825.0</td>\n",
       "      <td>0.10513</td>\n",
       "    </tr>\n",
       "    <tr>\n",
       "      <th>4</th>\n",
       "      <td>10001 to 25000</td>\n",
       "      <td>243</td>\n",
       "      <td>2825.0</td>\n",
       "      <td>0.08602</td>\n",
       "    </tr>\n",
       "    <tr>\n",
       "      <th>5</th>\n",
       "      <td>Small</td>\n",
       "      <td>235</td>\n",
       "      <td>2825.0</td>\n",
       "      <td>0.08319</td>\n",
       "    </tr>\n",
       "    <tr>\n",
       "      <th>6</th>\n",
       "      <td>Over 100000</td>\n",
       "      <td>130</td>\n",
       "      <td>2825.0</td>\n",
       "      <td>0.04602</td>\n",
       "    </tr>\n",
       "    <tr>\n",
       "      <th>7</th>\n",
       "      <td>Large</td>\n",
       "      <td>119</td>\n",
       "      <td>2825.0</td>\n",
       "      <td>0.04212</td>\n",
       "    </tr>\n",
       "    <tr>\n",
       "      <th>8</th>\n",
       "      <td>25001 to 50000</td>\n",
       "      <td>94</td>\n",
       "      <td>2825.0</td>\n",
       "      <td>0.03327</td>\n",
       "    </tr>\n",
       "    <tr>\n",
       "      <th>9</th>\n",
       "      <td>50001 to 100000</td>\n",
       "      <td>75</td>\n",
       "      <td>2825.0</td>\n",
       "      <td>0.02655</td>\n",
       "    </tr>\n",
       "    <tr>\n",
       "      <th>10</th>\n",
       "      <td>Unknown</td>\n",
       "      <td>1554</td>\n",
       "      <td>NaN</td>\n",
       "      <td>NaN</td>\n",
       "    </tr>\n",
       "  </tbody>\n",
       "</table>\n",
       "</div>"
      ],
      "text/plain": [
       "               enum     x       n     freq\n",
       "0     1001 to 10000   589  2825.0  0.20850\n",
       "1       101 to 1000   547  2825.0  0.19363\n",
       "2         11 to 100   496  2825.0  0.17558\n",
       "3           1 to 10   297  2825.0  0.10513\n",
       "4    10001 to 25000   243  2825.0  0.08602\n",
       "5             Small   235  2825.0  0.08319\n",
       "6       Over 100000   130  2825.0  0.04602\n",
       "7             Large   119  2825.0  0.04212\n",
       "8    25001 to 50000    94  2825.0  0.03327\n",
       "9   50001 to 100000    75  2825.0  0.02655\n",
       "10          Unknown  1554     NaN      NaN"
      ]
     },
     "execution_count": 47,
     "metadata": {},
     "output_type": "execute_result"
    }
   ],
   "source": [
    "external_size = v.enum_summary(external, 'victim.employee_count')\n",
    "external_size.head(100)"
   ]
  },
  {
   "cell_type": "code",
   "execution_count": 48,
   "metadata": {},
   "outputs": [
    {
     "data": {
      "text/html": [
       "<div>\n",
       "<style scoped>\n",
       "    .dataframe tbody tr th:only-of-type {\n",
       "        vertical-align: middle;\n",
       "    }\n",
       "\n",
       "    .dataframe tbody tr th {\n",
       "        vertical-align: top;\n",
       "    }\n",
       "\n",
       "    .dataframe thead th {\n",
       "        text-align: right;\n",
       "    }\n",
       "</style>\n",
       "<table border=\"1\" class=\"dataframe\">\n",
       "  <thead>\n",
       "    <tr style=\"text-align: right;\">\n",
       "      <th></th>\n",
       "      <th>enum</th>\n",
       "      <th>x</th>\n",
       "      <th>n</th>\n",
       "      <th>freq</th>\n",
       "    </tr>\n",
       "  </thead>\n",
       "  <tbody>\n",
       "    <tr>\n",
       "      <th>0</th>\n",
       "      <td>Over 100000</td>\n",
       "      <td>891</td>\n",
       "      <td>2788.0</td>\n",
       "      <td>0.31958</td>\n",
       "    </tr>\n",
       "    <tr>\n",
       "      <th>1</th>\n",
       "      <td>1001 to 10000</td>\n",
       "      <td>538</td>\n",
       "      <td>2788.0</td>\n",
       "      <td>0.19297</td>\n",
       "    </tr>\n",
       "    <tr>\n",
       "      <th>2</th>\n",
       "      <td>101 to 1000</td>\n",
       "      <td>382</td>\n",
       "      <td>2788.0</td>\n",
       "      <td>0.13702</td>\n",
       "    </tr>\n",
       "    <tr>\n",
       "      <th>3</th>\n",
       "      <td>11 to 100</td>\n",
       "      <td>211</td>\n",
       "      <td>2788.0</td>\n",
       "      <td>0.07568</td>\n",
       "    </tr>\n",
       "    <tr>\n",
       "      <th>4</th>\n",
       "      <td>Small</td>\n",
       "      <td>189</td>\n",
       "      <td>2788.0</td>\n",
       "      <td>0.06779</td>\n",
       "    </tr>\n",
       "    <tr>\n",
       "      <th>5</th>\n",
       "      <td>10001 to 25000</td>\n",
       "      <td>181</td>\n",
       "      <td>2788.0</td>\n",
       "      <td>0.06492</td>\n",
       "    </tr>\n",
       "    <tr>\n",
       "      <th>6</th>\n",
       "      <td>Large</td>\n",
       "      <td>138</td>\n",
       "      <td>2788.0</td>\n",
       "      <td>0.04950</td>\n",
       "    </tr>\n",
       "    <tr>\n",
       "      <th>7</th>\n",
       "      <td>1 to 10</td>\n",
       "      <td>114</td>\n",
       "      <td>2788.0</td>\n",
       "      <td>0.04089</td>\n",
       "    </tr>\n",
       "    <tr>\n",
       "      <th>8</th>\n",
       "      <td>25001 to 50000</td>\n",
       "      <td>89</td>\n",
       "      <td>2788.0</td>\n",
       "      <td>0.03192</td>\n",
       "    </tr>\n",
       "    <tr>\n",
       "      <th>9</th>\n",
       "      <td>50001 to 100000</td>\n",
       "      <td>55</td>\n",
       "      <td>2788.0</td>\n",
       "      <td>0.01973</td>\n",
       "    </tr>\n",
       "    <tr>\n",
       "      <th>10</th>\n",
       "      <td>Unknown</td>\n",
       "      <td>1133</td>\n",
       "      <td>NaN</td>\n",
       "      <td>NaN</td>\n",
       "    </tr>\n",
       "  </tbody>\n",
       "</table>\n",
       "</div>"
      ],
      "text/plain": [
       "               enum     x       n     freq\n",
       "0       Over 100000   891  2788.0  0.31958\n",
       "1     1001 to 10000   538  2788.0  0.19297\n",
       "2       101 to 1000   382  2788.0  0.13702\n",
       "3         11 to 100   211  2788.0  0.07568\n",
       "4             Small   189  2788.0  0.06779\n",
       "5    10001 to 25000   181  2788.0  0.06492\n",
       "6             Large   138  2788.0  0.04950\n",
       "7           1 to 10   114  2788.0  0.04089\n",
       "8    25001 to 50000    89  2788.0  0.03192\n",
       "9   50001 to 100000    55  2788.0  0.01973\n",
       "10          Unknown  1133     NaN      NaN"
      ]
     },
     "execution_count": 48,
     "metadata": {},
     "output_type": "execute_result"
    }
   ],
   "source": [
    "internal_size = v.enum_summary(internal, 'victim.employee_count')\n",
    "internal_size.head(100)"
   ]
  },
  {
   "cell_type": "code",
   "execution_count": 49,
   "metadata": {},
   "outputs": [],
   "source": [
    "df2 = v.enum_summary(df, 'victim.employee_count')\n",
    "company_size = df2[['enum']]\n",
    "company_size.columns = ['Employee Count']\n",
    "company_size.insert(1, 'Internal', internal_size['x'], allow_duplicates=False)\n",
    "company_size.insert(1, 'External', external_size['x'], allow_duplicates=False)\n",
    "company_size.head()\n",
    "company_size = company_size.drop(10)"
   ]
  },
  {
   "cell_type": "code",
   "execution_count": 50,
   "metadata": {},
   "outputs": [
    {
     "data": {
      "text/plain": [
       "Text(0.5, 1.0, 'Internal vs External Attacks based on Target Company Size')"
      ]
     },
     "execution_count": 50,
     "metadata": {},
     "output_type": "execute_result"
    },
    {
     "data": {
      "image/png": "[encoded data removed]",
      "text/plain": [
       "<Figure size 720x720 with 1 Axes>"
      ]
     },
     "metadata": {
      "needs_background": "light"
     },
     "output_type": "display_data"
    }
   ],
   "source": [
    "import matplotlib.pyplot as plt\n",
    "import pandas as pd\n",
    "\n",
    "company_size['Employee Count'] = pd.Categorical(company_size['Employee Count'], [\"Small\", \"Large\", \"1 to 10\", \"11 to 100\", \"101 to 1000\", \"1001 to 10000\", \"10001 to 25000\", \"25001 to 50000\", \"50001 to 100000\", \"Over 100000\"])\n",
    "#company_size.sort_values('Employee Count')\n",
    "company_size.plot(kind=\"barh\", x=\"Employee Count\", figsize=(10,10))\n",
    "#company_size.head()\n",
    "plt.xlabel(\"Count\")\n",
    "plt.title(\"Internal vs External Attacks based on Target Company Size\")"
   ]
  },
  {
   "cell_type": "markdown",
   "metadata": {},
   "source": [
    "## Most Damaging Attacks in External and Internal"
   ]
  },
  {
   "cell_type": "code",
   "execution_count": 51,
   "metadata": {},
   "outputs": [
    {
     "data": {
      "text/html": [
       "<div>\n",
       "<style scoped>\n",
       "    .dataframe tbody tr th:only-of-type {\n",
       "        vertical-align: middle;\n",
       "    }\n",
       "\n",
       "    .dataframe tbody tr th {\n",
       "        vertical-align: top;\n",
       "    }\n",
       "\n",
       "    .dataframe thead th {\n",
       "        text-align: right;\n",
       "    }\n",
       "</style>\n",
       "<table border=\"1\" class=\"dataframe\">\n",
       "  <thead>\n",
       "    <tr style=\"text-align: right;\">\n",
       "      <th></th>\n",
       "      <th>enum</th>\n",
       "      <th>x</th>\n",
       "      <th>n</th>\n",
       "      <th>freq</th>\n",
       "    </tr>\n",
       "  </thead>\n",
       "  <tbody>\n",
       "    <tr>\n",
       "      <th>0</th>\n",
       "      <td>Error</td>\n",
       "      <td>2522</td>\n",
       "      <td>8400.0</td>\n",
       "      <td>0.30024</td>\n",
       "    </tr>\n",
       "    <tr>\n",
       "      <th>1</th>\n",
       "      <td>Hacking</td>\n",
       "      <td>2284</td>\n",
       "      <td>8400.0</td>\n",
       "      <td>0.27190</td>\n",
       "    </tr>\n",
       "    <tr>\n",
       "      <th>2</th>\n",
       "      <td>Misuse</td>\n",
       "      <td>1738</td>\n",
       "      <td>8400.0</td>\n",
       "      <td>0.20690</td>\n",
       "    </tr>\n",
       "    <tr>\n",
       "      <th>3</th>\n",
       "      <td>Physical</td>\n",
       "      <td>1606</td>\n",
       "      <td>8400.0</td>\n",
       "      <td>0.19119</td>\n",
       "    </tr>\n",
       "    <tr>\n",
       "      <th>4</th>\n",
       "      <td>Malware</td>\n",
       "      <td>750</td>\n",
       "      <td>8400.0</td>\n",
       "      <td>0.08929</td>\n",
       "    </tr>\n",
       "  </tbody>\n",
       "</table>\n",
       "</div>"
      ],
      "text/plain": [
       "       enum     x       n     freq\n",
       "0     Error  2522  8400.0  0.30024\n",
       "1   Hacking  2284  8400.0  0.27190\n",
       "2    Misuse  1738  8400.0  0.20690\n",
       "3  Physical  1606  8400.0  0.19119\n",
       "4   Malware   750  8400.0  0.08929"
      ]
     },
     "execution_count": 51,
     "metadata": {},
     "output_type": "execute_result"
    }
   ],
   "source": [
    "#external = df[df['actor.External']]\n",
    "#impacts = v.enum_summary(df, 'impact.loss.rating')\n",
    "attacks = v.enum_summary(df, 'action')\n",
    "external = v.enum_summary(attacks, 'actor.External')\n",
    "internal = v.enum_summary(attacks, 'actor.Internal')\n",
    "internal_attacks = v.enum_summary(internal, 'action')\n",
    "external_attacks = v.enum_summary(external, 'action')\n",
    "#attacks = attacks[['enum']]\n",
    "#attacks.insert(1, 'Internal', internal['x'], allow_duplicates=False)\n",
    "attacks.head()"
   ]
  },
  {
   "cell_type": "code",
   "execution_count": 52,
   "metadata": {},
   "outputs": [
    {
     "data": {
      "image/png": "[encoded data removed]",
      "text/plain": [
       "<Figure size 432x288 with 1 Axes>"
      ]
     },
     "metadata": {
      "needs_background": "light"
     },
     "output_type": "display_data"
    }
   ],
   "source": [
    "df_actors_developers = v.enum_summary(df, 'action', by='actor.internal.variety')\n",
    "df_actors_developers = df_actors_developers[df_actors_developers['by'] == 'actor.internal.variety.Developer']\n",
    "df_actors_developers.plot(kind='bar', x='enum', y='x', legend=False)\n",
    "plt.xticks(rotation=25)\n",
    "plt.ylabel('Count')\n",
    "plt.savefig('df_actors_developers')"
   ]
  },
  {
   "cell_type": "code",
   "execution_count": 126,
   "metadata": {},
   "outputs": [
    {
     "data": {
      "text/html": [
       "<div>\n",
       "<style scoped>\n",
       "    .dataframe tbody tr th:only-of-type {\n",
       "        vertical-align: middle;\n",
       "    }\n",
       "\n",
       "    .dataframe tbody tr th {\n",
       "        vertical-align: top;\n",
       "    }\n",
       "\n",
       "    .dataframe thead th {\n",
       "        text-align: right;\n",
       "    }\n",
       "</style>\n",
       "<table border=\"1\" class=\"dataframe\">\n",
       "  <thead>\n",
       "    <tr style=\"text-align: right;\">\n",
       "      <th></th>\n",
       "      <th>Actor Origin</th>\n",
       "      <th>Action Type</th>\n",
       "      <th>Count</th>\n",
       "    </tr>\n",
       "  </thead>\n",
       "  <tbody>\n",
       "    <tr>\n",
       "      <th>0</th>\n",
       "      <td>actor.External</td>\n",
       "      <td>Hacking</td>\n",
       "      <td>2223</td>\n",
       "    </tr>\n",
       "    <tr>\n",
       "      <th>1</th>\n",
       "      <td>actor.External</td>\n",
       "      <td>Physical</td>\n",
       "      <td>1419</td>\n",
       "    </tr>\n",
       "    <tr>\n",
       "      <th>2</th>\n",
       "      <td>actor.External</td>\n",
       "      <td>Malware</td>\n",
       "      <td>739</td>\n",
       "    </tr>\n",
       "    <tr>\n",
       "      <th>3</th>\n",
       "      <td>actor.External</td>\n",
       "      <td>Social</td>\n",
       "      <td>567</td>\n",
       "    </tr>\n",
       "    <tr>\n",
       "      <th>4</th>\n",
       "      <td>actor.External</td>\n",
       "      <td>Misuse</td>\n",
       "      <td>170</td>\n",
       "    </tr>\n",
       "    <tr>\n",
       "      <th>5</th>\n",
       "      <td>actor.External</td>\n",
       "      <td>Error</td>\n",
       "      <td>129</td>\n",
       "    </tr>\n",
       "    <tr>\n",
       "      <th>6</th>\n",
       "      <td>actor.External</td>\n",
       "      <td>Environmental</td>\n",
       "      <td>6</td>\n",
       "    </tr>\n",
       "    <tr>\n",
       "      <th>7</th>\n",
       "      <td>actor.External</td>\n",
       "      <td>Unknown</td>\n",
       "      <td>65</td>\n",
       "    </tr>\n",
       "    <tr>\n",
       "      <th>8</th>\n",
       "      <td>actor.Internal</td>\n",
       "      <td>Error</td>\n",
       "      <td>2219</td>\n",
       "    </tr>\n",
       "    <tr>\n",
       "      <th>9</th>\n",
       "      <td>actor.Internal</td>\n",
       "      <td>Misuse</td>\n",
       "      <td>1610</td>\n",
       "    </tr>\n",
       "    <tr>\n",
       "      <th>10</th>\n",
       "      <td>actor.Internal</td>\n",
       "      <td>Physical</td>\n",
       "      <td>178</td>\n",
       "    </tr>\n",
       "    <tr>\n",
       "      <th>11</th>\n",
       "      <td>actor.Internal</td>\n",
       "      <td>Social</td>\n",
       "      <td>90</td>\n",
       "    </tr>\n",
       "    <tr>\n",
       "      <th>12</th>\n",
       "      <td>actor.Internal</td>\n",
       "      <td>Hacking</td>\n",
       "      <td>59</td>\n",
       "    </tr>\n",
       "    <tr>\n",
       "      <th>13</th>\n",
       "      <td>actor.Internal</td>\n",
       "      <td>Malware</td>\n",
       "      <td>14</td>\n",
       "    </tr>\n",
       "    <tr>\n",
       "      <th>14</th>\n",
       "      <td>actor.Internal</td>\n",
       "      <td>Environmental</td>\n",
       "      <td>2</td>\n",
       "    </tr>\n",
       "    <tr>\n",
       "      <th>15</th>\n",
       "      <td>actor.Internal</td>\n",
       "      <td>Unknown</td>\n",
       "      <td>11</td>\n",
       "    </tr>\n",
       "    <tr>\n",
       "      <th>16</th>\n",
       "      <td>actor.Partner</td>\n",
       "      <td>Error</td>\n",
       "      <td>252</td>\n",
       "    </tr>\n",
       "    <tr>\n",
       "      <th>17</th>\n",
       "      <td>actor.Partner</td>\n",
       "      <td>Misuse</td>\n",
       "      <td>92</td>\n",
       "    </tr>\n",
       "    <tr>\n",
       "      <th>18</th>\n",
       "      <td>actor.Partner</td>\n",
       "      <td>Physical</td>\n",
       "      <td>26</td>\n",
       "    </tr>\n",
       "    <tr>\n",
       "      <th>19</th>\n",
       "      <td>actor.Partner</td>\n",
       "      <td>Hacking</td>\n",
       "      <td>21</td>\n",
       "    </tr>\n",
       "    <tr>\n",
       "      <th>20</th>\n",
       "      <td>actor.Partner</td>\n",
       "      <td>Social</td>\n",
       "      <td>9</td>\n",
       "    </tr>\n",
       "    <tr>\n",
       "      <th>21</th>\n",
       "      <td>actor.Partner</td>\n",
       "      <td>Malware</td>\n",
       "      <td>4</td>\n",
       "    </tr>\n",
       "    <tr>\n",
       "      <th>22</th>\n",
       "      <td>actor.Partner</td>\n",
       "      <td>Environmental</td>\n",
       "      <td>0</td>\n",
       "    </tr>\n",
       "    <tr>\n",
       "      <th>23</th>\n",
       "      <td>actor.Partner</td>\n",
       "      <td>Unknown</td>\n",
       "      <td>1</td>\n",
       "    </tr>\n",
       "  </tbody>\n",
       "</table>\n",
       "</div>"
      ],
      "text/plain": [
       "      Actor Origin    Action Type  Count\n",
       "0   actor.External        Hacking   2223\n",
       "1   actor.External       Physical   1419\n",
       "2   actor.External        Malware    739\n",
       "3   actor.External         Social    567\n",
       "4   actor.External         Misuse    170\n",
       "5   actor.External          Error    129\n",
       "6   actor.External  Environmental      6\n",
       "7   actor.External        Unknown     65\n",
       "8   actor.Internal          Error   2219\n",
       "9   actor.Internal         Misuse   1610\n",
       "10  actor.Internal       Physical    178\n",
       "11  actor.Internal         Social     90\n",
       "12  actor.Internal        Hacking     59\n",
       "13  actor.Internal        Malware     14\n",
       "14  actor.Internal  Environmental      2\n",
       "15  actor.Internal        Unknown     11\n",
       "16   actor.Partner          Error    252\n",
       "17   actor.Partner         Misuse     92\n",
       "18   actor.Partner       Physical     26\n",
       "19   actor.Partner        Hacking     21\n",
       "20   actor.Partner         Social      9\n",
       "21   actor.Partner        Malware      4\n",
       "22   actor.Partner  Environmental      0\n",
       "23   actor.Partner        Unknown      1"
      ]
     },
     "execution_count": 126,
     "metadata": {},
     "output_type": "execute_result"
    }
   ],
   "source": [
    "import numpy as np\n",
    "df_action_actor = v.enum_summary(df, 'action', by='actor')\n",
    "df_action_actor.drop(['n', 'freq'], axis=1, inplace=True)\n",
    "df_action_actor.columns = ['Actor Origin', 'Action Type', 'Count']\n",
    "df_Unknown_3 = df_action_actor[df_action_actor['Actor Origin'] == 'actor.Unknown']\n",
    "df_action_actor.drop(df_Unknown_3.index, inplace=True)\n",
    "df_action_actor.head(30)"
   ]
  },
  {
   "cell_type": "code",
   "execution_count": 175,
   "metadata": {},
   "outputs": [],
   "source": [
    "action_xtab = pd.pivot_table(df_action_actor, values='Count', index=['Actor Origin'],\n",
    "                    columns=['Action Type'], aggfunc=np.sum)"
   ]
  },
  {
   "cell_type": "code",
   "execution_count": 178,
   "metadata": {},
   "outputs": [
    {
     "data": {
      "image/png": "[encoded data removed]",
      "text/plain": [
       "<Figure size 720x720 with 2 Axes>"
      ]
     },
     "metadata": {
      "needs_background": "light"
     },
     "output_type": "display_data"
    }
   ],
   "source": [
    "action_fig = plt.pcolor(action_xtab, cmap=cm.Blues)\n",
    "plt.yticks(np.arange(0.5,len(action_xtab.index), 1), action_xtab.index)\n",
    "plt.xticks(np.arange(0.5,len(action_xtab.columns), 1), action_xtab.columns, rotation=45, ha=\"right\")\n",
    "plt.colorbar()\n",
    "plt.rcParams[\"figure.figsize\"] = (10,10)\n",
    "# plt.tick_params(axis='x', colors='white')\n",
    "# plt.tick_params(axis='y', colors='white')\n",
    "# cb.ax.yaxis.set_tick_params(colors='white')"
   ]
  },
  {
   "cell_type": "code",
   "execution_count": 55,
   "metadata": {},
   "outputs": [
    {
     "data": {
      "text/html": [
       "<div>\n",
       "<style scoped>\n",
       "    .dataframe tbody tr th:only-of-type {\n",
       "        vertical-align: middle;\n",
       "    }\n",
       "\n",
       "    .dataframe tbody tr th {\n",
       "        vertical-align: top;\n",
       "    }\n",
       "\n",
       "    .dataframe thead th {\n",
       "        text-align: right;\n",
       "    }\n",
       "</style>\n",
       "<table border=\"1\" class=\"dataframe\">\n",
       "  <thead>\n",
       "    <tr style=\"text-align: right;\">\n",
       "      <th></th>\n",
       "      <th>enum</th>\n",
       "      <th>x</th>\n",
       "      <th>n</th>\n",
       "      <th>freq</th>\n",
       "    </tr>\n",
       "  </thead>\n",
       "  <tbody>\n",
       "    <tr>\n",
       "      <th>0</th>\n",
       "      <td>Insignificant</td>\n",
       "      <td>4</td>\n",
       "      <td>6.0</td>\n",
       "      <td>0.66667</td>\n",
       "    </tr>\n",
       "    <tr>\n",
       "      <th>1</th>\n",
       "      <td>Distracting</td>\n",
       "      <td>1</td>\n",
       "      <td>6.0</td>\n",
       "      <td>0.16667</td>\n",
       "    </tr>\n",
       "    <tr>\n",
       "      <th>2</th>\n",
       "      <td>Painful</td>\n",
       "      <td>1</td>\n",
       "      <td>6.0</td>\n",
       "      <td>0.16667</td>\n",
       "    </tr>\n",
       "    <tr>\n",
       "      <th>3</th>\n",
       "      <td>Catastrophic</td>\n",
       "      <td>0</td>\n",
       "      <td>6.0</td>\n",
       "      <td>0.00000</td>\n",
       "    </tr>\n",
       "    <tr>\n",
       "      <th>4</th>\n",
       "      <td>Damaging</td>\n",
       "      <td>0</td>\n",
       "      <td>6.0</td>\n",
       "      <td>0.00000</td>\n",
       "    </tr>\n",
       "    <tr>\n",
       "      <th>5</th>\n",
       "      <td>Unknown</td>\n",
       "      <td>41</td>\n",
       "      <td>NaN</td>\n",
       "      <td>NaN</td>\n",
       "    </tr>\n",
       "  </tbody>\n",
       "</table>\n",
       "</div>"
      ],
      "text/plain": [
       "            enum   x    n     freq\n",
       "0  Insignificant   4  6.0  0.66667\n",
       "1    Distracting   1  6.0  0.16667\n",
       "2        Painful   1  6.0  0.16667\n",
       "3   Catastrophic   0  6.0  0.00000\n",
       "4       Damaging   0  6.0  0.00000\n",
       "5        Unknown  41  NaN      NaN"
      ]
     },
     "execution_count": 55,
     "metadata": {},
     "output_type": "execute_result"
    }
   ],
   "source": [
    "df3 = df[df['actor.Internal'] == True]\n",
    "df3 = df3[df3['action.Hacking'] == True]\n",
    "\n",
    "summary = v.enum_summary(df3, 'impact.overall_rating')\n",
    "summary.head(20)"
   ]
  },
  {
   "cell_type": "code",
   "execution_count": 56,
   "metadata": {},
   "outputs": [
    {
     "name": "stderr",
     "output_type": "stream",
     "text": [
      "<ipython-input-56-62336574bc0c>:2: UserWarning: Boolean Series key will be reindexed to match DataFrame index.\n",
      "  df3 = df3[df['action.Hacking'] == True]\n"
     ]
    },
    {
     "data": {
      "text/html": [
       "<div>\n",
       "<style scoped>\n",
       "    .dataframe tbody tr th:only-of-type {\n",
       "        vertical-align: middle;\n",
       "    }\n",
       "\n",
       "    .dataframe tbody tr th {\n",
       "        vertical-align: top;\n",
       "    }\n",
       "\n",
       "    .dataframe thead th {\n",
       "        text-align: right;\n",
       "    }\n",
       "</style>\n",
       "<table border=\"1\" class=\"dataframe\">\n",
       "  <thead>\n",
       "    <tr style=\"text-align: right;\">\n",
       "      <th></th>\n",
       "      <th>enum</th>\n",
       "      <th>x</th>\n",
       "      <th>n</th>\n",
       "      <th>freq</th>\n",
       "    </tr>\n",
       "  </thead>\n",
       "  <tbody>\n",
       "    <tr>\n",
       "      <th>0</th>\n",
       "      <td>Use of stolen creds</td>\n",
       "      <td>291</td>\n",
       "      <td>840.0</td>\n",
       "      <td>0.34643</td>\n",
       "    </tr>\n",
       "    <tr>\n",
       "      <th>1</th>\n",
       "      <td>Exploit vuln</td>\n",
       "      <td>240</td>\n",
       "      <td>840.0</td>\n",
       "      <td>0.28571</td>\n",
       "    </tr>\n",
       "    <tr>\n",
       "      <th>2</th>\n",
       "      <td>Use of backdoor or C2</td>\n",
       "      <td>208</td>\n",
       "      <td>840.0</td>\n",
       "      <td>0.24762</td>\n",
       "    </tr>\n",
       "    <tr>\n",
       "      <th>3</th>\n",
       "      <td>DoS</td>\n",
       "      <td>164</td>\n",
       "      <td>840.0</td>\n",
       "      <td>0.19524</td>\n",
       "    </tr>\n",
       "    <tr>\n",
       "      <th>4</th>\n",
       "      <td>Brute force</td>\n",
       "      <td>139</td>\n",
       "      <td>840.0</td>\n",
       "      <td>0.16548</td>\n",
       "    </tr>\n",
       "    <tr>\n",
       "      <th>5</th>\n",
       "      <td>SQLi</td>\n",
       "      <td>99</td>\n",
       "      <td>840.0</td>\n",
       "      <td>0.11786</td>\n",
       "    </tr>\n",
       "    <tr>\n",
       "      <th>6</th>\n",
       "      <td>Other</td>\n",
       "      <td>41</td>\n",
       "      <td>840.0</td>\n",
       "      <td>0.04881</td>\n",
       "    </tr>\n",
       "    <tr>\n",
       "      <th>7</th>\n",
       "      <td>Abuse of functionality</td>\n",
       "      <td>33</td>\n",
       "      <td>840.0</td>\n",
       "      <td>0.03929</td>\n",
       "    </tr>\n",
       "    <tr>\n",
       "      <th>8</th>\n",
       "      <td>Forced browsing</td>\n",
       "      <td>19</td>\n",
       "      <td>840.0</td>\n",
       "      <td>0.02262</td>\n",
       "    </tr>\n",
       "    <tr>\n",
       "      <th>9</th>\n",
       "      <td>MitM</td>\n",
       "      <td>8</td>\n",
       "      <td>840.0</td>\n",
       "      <td>0.00952</td>\n",
       "    </tr>\n",
       "    <tr>\n",
       "      <th>10</th>\n",
       "      <td>XSS</td>\n",
       "      <td>6</td>\n",
       "      <td>840.0</td>\n",
       "      <td>0.00714</td>\n",
       "    </tr>\n",
       "    <tr>\n",
       "      <th>11</th>\n",
       "      <td>Buffer overflow</td>\n",
       "      <td>5</td>\n",
       "      <td>840.0</td>\n",
       "      <td>0.00595</td>\n",
       "    </tr>\n",
       "    <tr>\n",
       "      <th>12</th>\n",
       "      <td>Path traversal</td>\n",
       "      <td>5</td>\n",
       "      <td>840.0</td>\n",
       "      <td>0.00595</td>\n",
       "    </tr>\n",
       "    <tr>\n",
       "      <th>13</th>\n",
       "      <td>OS commanding</td>\n",
       "      <td>4</td>\n",
       "      <td>840.0</td>\n",
       "      <td>0.00476</td>\n",
       "    </tr>\n",
       "    <tr>\n",
       "      <th>14</th>\n",
       "      <td>SSI injection</td>\n",
       "      <td>4</td>\n",
       "      <td>840.0</td>\n",
       "      <td>0.00476</td>\n",
       "    </tr>\n",
       "    <tr>\n",
       "      <th>15</th>\n",
       "      <td>URL redirector abuse</td>\n",
       "      <td>3</td>\n",
       "      <td>840.0</td>\n",
       "      <td>0.00357</td>\n",
       "    </tr>\n",
       "    <tr>\n",
       "      <th>16</th>\n",
       "      <td>Footprinting</td>\n",
       "      <td>3</td>\n",
       "      <td>840.0</td>\n",
       "      <td>0.00357</td>\n",
       "    </tr>\n",
       "    <tr>\n",
       "      <th>17</th>\n",
       "      <td>Cryptanalysis</td>\n",
       "      <td>3</td>\n",
       "      <td>840.0</td>\n",
       "      <td>0.00357</td>\n",
       "    </tr>\n",
       "    <tr>\n",
       "      <th>18</th>\n",
       "      <td>Session replay</td>\n",
       "      <td>1</td>\n",
       "      <td>840.0</td>\n",
       "      <td>0.00119</td>\n",
       "    </tr>\n",
       "    <tr>\n",
       "      <th>19</th>\n",
       "      <td>Session prediction</td>\n",
       "      <td>1</td>\n",
       "      <td>840.0</td>\n",
       "      <td>0.00119</td>\n",
       "    </tr>\n",
       "  </tbody>\n",
       "</table>\n",
       "</div>"
      ],
      "text/plain": [
       "                      enum    x      n     freq\n",
       "0      Use of stolen creds  291  840.0  0.34643\n",
       "1             Exploit vuln  240  840.0  0.28571\n",
       "2    Use of backdoor or C2  208  840.0  0.24762\n",
       "3                      DoS  164  840.0  0.19524\n",
       "4              Brute force  139  840.0  0.16548\n",
       "5                     SQLi   99  840.0  0.11786\n",
       "6                    Other   41  840.0  0.04881\n",
       "7   Abuse of functionality   33  840.0  0.03929\n",
       "8          Forced browsing   19  840.0  0.02262\n",
       "9                     MitM    8  840.0  0.00952\n",
       "10                     XSS    6  840.0  0.00714\n",
       "11         Buffer overflow    5  840.0  0.00595\n",
       "12          Path traversal    5  840.0  0.00595\n",
       "13           OS commanding    4  840.0  0.00476\n",
       "14           SSI injection    4  840.0  0.00476\n",
       "15    URL redirector abuse    3  840.0  0.00357\n",
       "16            Footprinting    3  840.0  0.00357\n",
       "17           Cryptanalysis    3  840.0  0.00357\n",
       "18          Session replay    1  840.0  0.00119\n",
       "19      Session prediction    1  840.0  0.00119"
      ]
     },
     "execution_count": 56,
     "metadata": {},
     "output_type": "execute_result"
    }
   ],
   "source": [
    "df3 = df[df['actor.External'] == True]\n",
    "df3 = df3[df['action.Hacking'] == True]\n",
    "summary = v.enum_summary(df3, 'action.hacking.variety')\n",
    "summary.head(20)"
   ]
  },
  {
   "cell_type": "markdown",
   "metadata": {},
   "source": [
    "## Actual Analysis"
   ]
  },
  {
   "cell_type": "code",
   "execution_count": 57,
   "metadata": {},
   "outputs": [
    {
     "data": {
      "text/html": [
       "<div>\n",
       "<style scoped>\n",
       "    .dataframe tbody tr th:only-of-type {\n",
       "        vertical-align: middle;\n",
       "    }\n",
       "\n",
       "    .dataframe tbody tr th {\n",
       "        vertical-align: top;\n",
       "    }\n",
       "\n",
       "    .dataframe thead th {\n",
       "        text-align: right;\n",
       "    }\n",
       "</style>\n",
       "<table border=\"1\" class=\"dataframe\">\n",
       "  <thead>\n",
       "    <tr style=\"text-align: right;\">\n",
       "      <th></th>\n",
       "      <th>Count</th>\n",
       "    </tr>\n",
       "    <tr>\n",
       "      <th>Action</th>\n",
       "      <th></th>\n",
       "    </tr>\n",
       "  </thead>\n",
       "  <tbody>\n",
       "    <tr>\n",
       "      <th>Malware</th>\n",
       "      <td>11</td>\n",
       "    </tr>\n",
       "    <tr>\n",
       "      <th>Hacking</th>\n",
       "      <td>9</td>\n",
       "    </tr>\n",
       "    <tr>\n",
       "      <th>Social</th>\n",
       "      <td>5</td>\n",
       "    </tr>\n",
       "    <tr>\n",
       "      <th>Environmental</th>\n",
       "      <td>0</td>\n",
       "    </tr>\n",
       "    <tr>\n",
       "      <th>Error</th>\n",
       "      <td>0</td>\n",
       "    </tr>\n",
       "    <tr>\n",
       "      <th>Misuse</th>\n",
       "      <td>0</td>\n",
       "    </tr>\n",
       "    <tr>\n",
       "      <th>Physical</th>\n",
       "      <td>0</td>\n",
       "    </tr>\n",
       "    <tr>\n",
       "      <th>Unknown</th>\n",
       "      <td>0</td>\n",
       "    </tr>\n",
       "  </tbody>\n",
       "</table>\n",
       "</div>"
      ],
      "text/plain": [
       "               Count\n",
       "Action              \n",
       "Malware           11\n",
       "Hacking            9\n",
       "Social             5\n",
       "Environmental      0\n",
       "Error              0\n",
       "Misuse             0\n",
       "Physical           0\n",
       "Unknown            0"
      ]
     },
     "execution_count": 57,
     "metadata": {},
     "output_type": "execute_result"
    },
    {
     "data": {
      "image/png": "[encoded data removed]",
      "text/plain": [
       "<Figure size 360x360 with 1 Axes>"
      ]
     },
     "metadata": {},
     "output_type": "display_data"
    }
   ],
   "source": [
    "df3 = df[df['actor.External'] == True]\n",
    "df3 = df3[df3['impact.overall_rating.Damaging'] == True]\n",
    "\n",
    "summary = v.enum_summary(df3, 'action')\n",
    "\n",
    "summary = summary.drop('freq', axis=1)\n",
    "summary = summary.drop('n', axis=1)\n",
    "summary.columns = ['Action', 'Count']\n",
    "summary = summary.set_index('Action')\n",
    "plot = summary.plot.pie(y='Count', figsize=(5, 5), legend=None, autopct='%1.1f%%')\n",
    "plt.title('Distribution of External Damaging Actions')\n",
    "summary.head(20)"
   ]
  },
  {
   "cell_type": "code",
   "execution_count": 58,
   "metadata": {},
   "outputs": [
    {
     "data": {
      "text/html": [
       "<div>\n",
       "<style scoped>\n",
       "    .dataframe tbody tr th:only-of-type {\n",
       "        vertical-align: middle;\n",
       "    }\n",
       "\n",
       "    .dataframe tbody tr th {\n",
       "        vertical-align: top;\n",
       "    }\n",
       "\n",
       "    .dataframe thead th {\n",
       "        text-align: right;\n",
       "    }\n",
       "</style>\n",
       "<table border=\"1\" class=\"dataframe\">\n",
       "  <thead>\n",
       "    <tr style=\"text-align: right;\">\n",
       "      <th></th>\n",
       "      <th>Count</th>\n",
       "    </tr>\n",
       "    <tr>\n",
       "      <th>Action</th>\n",
       "      <th></th>\n",
       "    </tr>\n",
       "  </thead>\n",
       "  <tbody>\n",
       "    <tr>\n",
       "      <th>Misuse</th>\n",
       "      <td>5</td>\n",
       "    </tr>\n",
       "    <tr>\n",
       "      <th>Error</th>\n",
       "      <td>4</td>\n",
       "    </tr>\n",
       "    <tr>\n",
       "      <th>Environmental</th>\n",
       "      <td>0</td>\n",
       "    </tr>\n",
       "    <tr>\n",
       "      <th>Hacking</th>\n",
       "      <td>0</td>\n",
       "    </tr>\n",
       "    <tr>\n",
       "      <th>Malware</th>\n",
       "      <td>0</td>\n",
       "    </tr>\n",
       "    <tr>\n",
       "      <th>Physical</th>\n",
       "      <td>0</td>\n",
       "    </tr>\n",
       "    <tr>\n",
       "      <th>Social</th>\n",
       "      <td>0</td>\n",
       "    </tr>\n",
       "    <tr>\n",
       "      <th>Unknown</th>\n",
       "      <td>0</td>\n",
       "    </tr>\n",
       "  </tbody>\n",
       "</table>\n",
       "</div>"
      ],
      "text/plain": [
       "               Count\n",
       "Action              \n",
       "Misuse             5\n",
       "Error              4\n",
       "Environmental      0\n",
       "Hacking            0\n",
       "Malware            0\n",
       "Physical           0\n",
       "Social             0\n",
       "Unknown            0"
      ]
     },
     "execution_count": 58,
     "metadata": {},
     "output_type": "execute_result"
    },
    {
     "data": {
      "image/png": "[encoded data removed]",
      "text/plain": [
       "<Figure size 360x360 with 1 Axes>"
      ]
     },
     "metadata": {},
     "output_type": "display_data"
    }
   ],
   "source": [
    "df3 = df[df['actor.Internal'] == True]\n",
    "df3 = df3[df3['impact.overall_rating.Damaging'] == True]\n",
    "\n",
    "summary = v.enum_summary(df3, 'action')\n",
    "\n",
    "summary = summary.drop('freq', axis=1)\n",
    "summary = summary.drop('n', axis=1)\n",
    "summary.columns = ['Action', 'Count']\n",
    "summary = summary.set_index('Action')\n",
    "plot = summary.plot.pie(y='Count', figsize=(5, 5), legend=None, autopct='%1.1f%%')\n",
    "plt.title('Distribution of Internal Damaging Actions')\n",
    "summary.head(20)"
   ]
  },
  {
   "cell_type": "markdown",
   "metadata": {},
   "source": [
    "#### We are looking at attacks that have an overall impact rating of \"Damaging\", anything less than this is insignificant and cases worse than this are very rare, meaning there is not enough data to dive deeper."
   ]
  },
  {
   "cell_type": "markdown",
   "metadata": {},
   "source": [
    "Looking at these summary tables, it is clear that external attacks are more aggressive and intentful in nature whereas internal damaging cyber incidents, appear to be from negligence and mistake. This is interesting because as internal developers have inside knowledge of the system, it's expected that there would be more succesful and damaging hacking attempts than external."
   ]
  },
  {
   "cell_type": "markdown",
   "metadata": {},
   "source": [
    "#### What actions to internal developers do that usually causes damage?"
   ]
  },
  {
   "cell_type": "code",
   "execution_count": 59,
   "metadata": {},
   "outputs": [
    {
     "data": {
      "image/png": "[encoded data removed]",
      "text/plain": [
       "<Figure size 432x288 with 1 Axes>"
      ]
     },
     "metadata": {
      "needs_background": "light"
     },
     "output_type": "display_data"
    }
   ],
   "source": [
    "developers = v.enum_summary(df, 'action', by='actor.internal.variety')\n",
    "developers = developers[developers['by'] == 'actor.internal.variety.Developer']\n",
    "developers.plot(kind='bar', x='enum', y='x', legend=False)\n",
    "plt.xticks(rotation=25)\n",
    "plt.ylabel('Count')\n",
    "plt.savefig('developers')"
   ]
  },
  {
   "cell_type": "code",
   "execution_count": 92,
   "metadata": {
    "scrolled": true
   },
   "outputs": [
    {
     "ename": "NameError",
     "evalue": "name 'vcdb' is not defined",
     "output_type": "error",
     "traceback": [
      "\u001b[1;31m---------------------------------------------------------------------------\u001b[0m",
      "\u001b[1;31mNameError\u001b[0m                                 Traceback (most recent call last)",
      "\u001b[1;32m<ipython-input-92-68789e7cde08>\u001b[0m in \u001b[0;36m<module>\u001b[1;34m\u001b[0m\n\u001b[0;32m      2\u001b[0m \u001b[1;31m# combined['InternalAction'] = combined['action.Environmental'] | combined['action.Hacking']\u001b[0m\u001b[1;33m\u001b[0m\u001b[1;33m\u001b[0m\u001b[1;33m\u001b[0m\u001b[0m\n\u001b[0;32m      3\u001b[0m \u001b[1;31m# combined['InternalAction'].head()\u001b[0m\u001b[1;33m\u001b[0m\u001b[1;33m\u001b[0m\u001b[1;33m\u001b[0m\u001b[0m\n\u001b[1;32m----> 4\u001b[1;33m \u001b[0mvcdb\u001b[0m \u001b[1;33m<\u001b[0m\u001b[1;33m-\u001b[0m \u001b[0mjson2veris\u001b[0m\u001b[1;33m(\u001b[0m\u001b[0mdata_dir\u001b[0m\u001b[1;33m)\u001b[0m\u001b[1;33m\u001b[0m\u001b[1;33m\u001b[0m\u001b[0m\n\u001b[0m\u001b[0;32m      5\u001b[0m \u001b[1;33m\u001b[0m\u001b[0m\n\u001b[0;32m      6\u001b[0m \u001b[1;31m# internal_variety = df['action.Error']\u001b[0m\u001b[1;33m\u001b[0m\u001b[1;33m\u001b[0m\u001b[1;33m\u001b[0m\u001b[0m\n",
      "\u001b[1;31mNameError\u001b[0m: name 'vcdb' is not defined"
     ]
    }
   ],
   "source": [
    "# combined = df\n",
    "# combined['InternalAction'] = combined['action.Environmental'] | combined['action.Hacking']\n",
    "# combined['InternalAction'].head()\n",
    "\n",
    "# internal_variety = df['action.Error']\n",
    "# internal_actor = df.filter(like='actor.internal.variety')\n",
    "# variety_crosstab = pd.crosstab(internal_actor, internal_variety)"
   ]
  },
  {
   "cell_type": "markdown",
   "metadata": {},
   "source": [
    "As we can see, the main cause of damage from developers is from error. To prevent internal damage, the most effective course of action would be to educate new developers better on the system as well as enabling various permissions on resources so even if a developer accidentally makes a mistake, they won't have permissions to follow through with their mistake. For example, remove \"Drop table\" permissions in SQL to prevent developers from accidentally deleting tables. Keeping regular backups of data will also act a a fallback incase anything is accidentally deleted."
   ]
  },
  {
   "cell_type": "markdown",
   "metadata": {},
   "source": [
    "#### Let's investigate external damaging actions, in particular, malware as this is the most frequent cause of damage."
   ]
  },
  {
   "cell_type": "code",
   "execution_count": 60,
   "metadata": {},
   "outputs": [
    {
     "data": {
      "text/html": [
       "<div>\n",
       "<style scoped>\n",
       "    .dataframe tbody tr th:only-of-type {\n",
       "        vertical-align: middle;\n",
       "    }\n",
       "\n",
       "    .dataframe tbody tr th {\n",
       "        vertical-align: top;\n",
       "    }\n",
       "\n",
       "    .dataframe thead th {\n",
       "        text-align: right;\n",
       "    }\n",
       "</style>\n",
       "<table border=\"1\" class=\"dataframe\">\n",
       "  <thead>\n",
       "    <tr style=\"text-align: right;\">\n",
       "      <th></th>\n",
       "      <th>enum</th>\n",
       "      <th>x</th>\n",
       "      <th>n</th>\n",
       "      <th>freq</th>\n",
       "    </tr>\n",
       "  </thead>\n",
       "  <tbody>\n",
       "    <tr>\n",
       "      <th>0</th>\n",
       "      <td>Reported by employee</td>\n",
       "      <td>53</td>\n",
       "      <td>86.0</td>\n",
       "      <td>0.61628</td>\n",
       "    </tr>\n",
       "    <tr>\n",
       "      <th>1</th>\n",
       "      <td>Antivirus</td>\n",
       "      <td>8</td>\n",
       "      <td>86.0</td>\n",
       "      <td>0.09302</td>\n",
       "    </tr>\n",
       "    <tr>\n",
       "      <th>2</th>\n",
       "      <td>Incident response</td>\n",
       "      <td>8</td>\n",
       "      <td>86.0</td>\n",
       "      <td>0.09302</td>\n",
       "    </tr>\n",
       "    <tr>\n",
       "      <th>3</th>\n",
       "      <td>It review</td>\n",
       "      <td>5</td>\n",
       "      <td>86.0</td>\n",
       "      <td>0.05814</td>\n",
       "    </tr>\n",
       "    <tr>\n",
       "      <th>4</th>\n",
       "      <td>Financial audit</td>\n",
       "      <td>4</td>\n",
       "      <td>86.0</td>\n",
       "      <td>0.04651</td>\n",
       "    </tr>\n",
       "    <tr>\n",
       "      <th>5</th>\n",
       "      <td>Infrastructure monitoring</td>\n",
       "      <td>3</td>\n",
       "      <td>86.0</td>\n",
       "      <td>0.03488</td>\n",
       "    </tr>\n",
       "    <tr>\n",
       "      <th>6</th>\n",
       "      <td>Fraud detection</td>\n",
       "      <td>2</td>\n",
       "      <td>86.0</td>\n",
       "      <td>0.02326</td>\n",
       "    </tr>\n",
       "    <tr>\n",
       "      <th>7</th>\n",
       "      <td>Nids</td>\n",
       "      <td>2</td>\n",
       "      <td>86.0</td>\n",
       "      <td>0.02326</td>\n",
       "    </tr>\n",
       "    <tr>\n",
       "      <th>8</th>\n",
       "      <td>Hids</td>\n",
       "      <td>1</td>\n",
       "      <td>86.0</td>\n",
       "      <td>0.01163</td>\n",
       "    </tr>\n",
       "    <tr>\n",
       "      <th>9</th>\n",
       "      <td>Break in discovered</td>\n",
       "      <td>0</td>\n",
       "      <td>86.0</td>\n",
       "      <td>0.00000</td>\n",
       "    </tr>\n",
       "    <tr>\n",
       "      <th>10</th>\n",
       "      <td>Data loss prevention</td>\n",
       "      <td>0</td>\n",
       "      <td>86.0</td>\n",
       "      <td>0.00000</td>\n",
       "    </tr>\n",
       "    <tr>\n",
       "      <th>11</th>\n",
       "      <td>Log review</td>\n",
       "      <td>0</td>\n",
       "      <td>86.0</td>\n",
       "      <td>0.00000</td>\n",
       "    </tr>\n",
       "    <tr>\n",
       "      <th>12</th>\n",
       "      <td>Other</td>\n",
       "      <td>0</td>\n",
       "      <td>86.0</td>\n",
       "      <td>0.00000</td>\n",
       "    </tr>\n",
       "    <tr>\n",
       "      <th>13</th>\n",
       "      <td>Security alarm</td>\n",
       "      <td>0</td>\n",
       "      <td>86.0</td>\n",
       "      <td>0.00000</td>\n",
       "    </tr>\n",
       "    <tr>\n",
       "      <th>14</th>\n",
       "      <td>Unknown</td>\n",
       "      <td>27</td>\n",
       "      <td>NaN</td>\n",
       "      <td>NaN</td>\n",
       "    </tr>\n",
       "  </tbody>\n",
       "</table>\n",
       "</div>"
      ],
      "text/plain": [
       "                         enum   x     n     freq\n",
       "0        Reported by employee  53  86.0  0.61628\n",
       "1                   Antivirus   8  86.0  0.09302\n",
       "2           Incident response   8  86.0  0.09302\n",
       "3                   It review   5  86.0  0.05814\n",
       "4             Financial audit   4  86.0  0.04651\n",
       "5   Infrastructure monitoring   3  86.0  0.03488\n",
       "6             Fraud detection   2  86.0  0.02326\n",
       "7                        Nids   2  86.0  0.02326\n",
       "8                        Hids   1  86.0  0.01163\n",
       "9         Break in discovered   0  86.0  0.00000\n",
       "10       Data loss prevention   0  86.0  0.00000\n",
       "11                 Log review   0  86.0  0.00000\n",
       "12                      Other   0  86.0  0.00000\n",
       "13             Security alarm   0  86.0  0.00000\n",
       "14                    Unknown  27   NaN      NaN"
      ]
     },
     "execution_count": 60,
     "metadata": {},
     "output_type": "execute_result"
    }
   ],
   "source": [
    "external = df[df['actor.External'] == True]\n",
    "external_malware = external[external['action.Malware'] == True]\n",
    "summary = v.enum_summary(external_malware, 'discovery_method.internal.variety')\n",
    "summary.head(20)"
   ]
  },
  {
   "cell_type": "code",
   "execution_count": 61,
   "metadata": {},
   "outputs": [
    {
     "name": "stdout",
     "output_type": "stream",
     "text": [
      "1214     NaN\n",
      "3101     NaN\n",
      "4046    15.0\n",
      "5452     NaN\n",
      "5613     NaN\n",
      "5906     NaN\n",
      "8149     NaN\n",
      "8150     NaN\n",
      "Name: timeline.discovery.value, dtype: float64\n"
     ]
    }
   ],
   "source": [
    "external_malware=  external_malware[external_malware['discovery_method.internal.variety.Antivirus'] == True]\n",
    "print(external_malware['timeline.discovery.value'])\n",
    "\n",
    "# This must be fucked eh? "
   ]
  },
  {
   "cell_type": "markdown",
   "metadata": {},
   "source": [
    "TODO - find how long it takes to discover malware with antivirus and how long it takes to discover malware with employee reporting, it should be quicker detecting with AV, but less detections happens by AV so then can conclude they should update their AV more lol"
   ]
  },
  {
   "cell_type": "markdown",
   "metadata": {},
   "source": [
    "# What specific types of internal attacks are most damaging?"
   ]
  },
  {
   "cell_type": "markdown",
   "metadata": {},
   "source": [
    "As we have seen above, error and misuse are the 2 most common types of internal attacks. To understand how companies can best protect against these attacks, we will look at the specific types of error and misuse and which are most common and damaging."
   ]
  },
  {
   "cell_type": "markdown",
   "metadata": {},
   "source": [
    "### Misuse"
   ]
  },
  {
   "cell_type": "code",
   "execution_count": 208,
   "metadata": {},
   "outputs": [
    {
     "data": {
      "image/png": "[encoded data removed]",
      "text/plain": [
       "<Figure size 432x432 with 2 Axes>"
      ]
     },
     "metadata": {
      "needs_background": "dark"
     },
     "output_type": "display_data"
    }
   ],
   "source": [
    "misuse = v.enum_summary(df, 'action.misuse.variety', by='impact.overall_rating')\n",
    "# misuse.head()\n",
    "misuse_xtab = pd.pivot_table(misuse, values='x', index=['enum'],\n",
    "                    columns=['by'], aggfunc=np.sum)\n",
    "misuse_xtab = misuse_xtab.drop('impact.overall_rating.Unknown', axis=1)\n",
    "\n",
    "misuse_fig = plt.pcolor(misuse_xtab, cmap=cm.Blues)\n",
    "plt.yticks(np.arange(0.5,len(misuse_xtab.index), 1), misuse_xtab.index)\n",
    "plt.xticks(np.arange(0.5,len(misuse_xtab.columns), 1), misuse_xtab.columns, rotation=45, ha=\"right\")\n",
    "cb = plt.colorbar()\n",
    "plt.title('Impact of Types of Misuse')\n",
    "plt.rcParams[\"figure.figsize\"] = (10,10)\n",
    "# plt.rcParams[\"figure.figsize\"] = (6,6)\n",
    "# plt.tick_params(axis='x', colors='white')\n",
    "# plt.tick_params(axis='y', colors='white')\n",
    "# cb.ax.yaxis.set_tick_params(colors='white')"
   ]
  },
  {
   "cell_type": "markdown",
   "metadata": {},
   "source": [
    "### Error"
   ]
  },
  {
   "cell_type": "code",
   "execution_count": 209,
   "metadata": {},
   "outputs": [
    {
     "data": {
      "image/png": "[encoded data removed]",
      "text/plain": [
       "<Figure size 432x432 with 2 Axes>"
      ]
     },
     "metadata": {
      "needs_background": "dark"
     },
     "output_type": "display_data"
    }
   ],
   "source": [
    "error = v.enum_summary(df, 'action.error.variety', by='impact.overall_rating')\n",
    "# error.head()\n",
    "error_xtab = pd.pivot_table(error, values='x', index=['enum'],\n",
    "                    columns=['by'], aggfunc=np.sum)\n",
    "error_xtab = error_xtab.drop('impact.overall_rating.Unknown', axis=1)\n",
    "\n",
    "error_fig = plt.pcolor(error_xtab, cmap=cm.Blues)\n",
    "plt.yticks(np.arange(0.5,len(error_xtab.index), 1), error_xtab.index)\n",
    "plt.xticks(np.arange(0.5,len(error_xtab.columns), 1), error_xtab.columns, rotation=45, ha=\"right\")\n",
    "cb = plt.colorbar()\n",
    "plt.rcParams[\"figure.figsize\"] = (10,10)\n",
    "# plt.rcParams[\"figure.figsize\"] = (6,6)\n",
    "# plt.tick_params(axis='x', colors='white')\n",
    "# plt.tick_params(axis='y', colors='white')\n",
    "# cb.ax.yaxis.set_tick_params(colors='white')"
   ]
  },
  {
   "cell_type": "markdown",
   "metadata": {},
   "source": [
    "# What specific types of external attacks are most damaging?"
   ]
  },
  {
   "cell_type": "markdown",
   "metadata": {},
   "source": [
    "### Hacking"
   ]
  },
  {
   "cell_type": "code",
   "execution_count": 210,
   "metadata": {},
   "outputs": [
    {
     "data": {
      "image/png": "[encoded data removed]",
      "text/plain": [
       "<Figure size 432x432 with 2 Axes>"
      ]
     },
     "metadata": {
      "needs_background": "dark"
     },
     "output_type": "display_data"
    }
   ],
   "source": [
    "hacking = v.enum_summary(df, 'action.hacking.variety', by='impact.overall_rating')\n",
    "hacking = hacking[hacking['x'] > 0] #remove enums with no data\n",
    "# hacking.head(50)\n",
    "hacking_xtab = pd.pivot_table(hacking, values='x', index=['enum'],\n",
    "                    columns=['by'], aggfunc=np.sum)\n",
    "hacking_xtab = hacking_xtab.drop('impact.overall_rating.Unknown', axis=1)\n",
    "\n",
    "hacking_fig = plt.pcolor(hacking_xtab, cmap=cm.Blues)\n",
    "plt.yticks(np.arange(0.5,len(hacking_xtab.index), 1), hacking_xtab.index)\n",
    "plt.xticks(np.arange(0.5,len(hacking_xtab.columns), 1), hacking_xtab.columns, rotation=45, ha=\"right\")\n",
    "cb = plt.colorbar()\n",
    "plt.rcParams[\"figure.figsize\"] = (10,10)\n",
    "plt.rcParams[\"figure.figsize\"] = (6,6)\n",
    "plt.tick_params(axis='x', colors='white')\n",
    "plt.tick_params(axis='y', colors='white')\n",
    "cb.ax.yaxis.set_tick_params(colors='white')"
   ]
  },
  {
   "cell_type": "markdown",
   "metadata": {},
   "source": [
    "### Malware"
   ]
  },
  {
   "cell_type": "code",
   "execution_count": 191,
   "metadata": {},
   "outputs": [
    {
     "data": {
      "image/png": "[encoded data removed]",
      "text/plain": [
       "<Figure size 720x720 with 2 Axes>"
      ]
     },
     "metadata": {
      "needs_background": "light"
     },
     "output_type": "display_data"
    }
   ],
   "source": [
    "malware = v.enum_summary(df, 'action.malware.variety', by='impact.overall_rating')\n",
    "malware = malware[malware['x'] > 0] #remove enums with no data\n",
    "# malware.head(50)\n",
    "malware_xtab = pd.pivot_table(malware, values='x', index=['enum'],\n",
    "                    columns=['by'], aggfunc=np.sum)\n",
    "malware_xtab = malware_xtab.drop('impact.overall_rating.Unknown', axis=1)\n",
    "\n",
    "malware_fig = plt.pcolor(malware_xtab, cmap=cm.Blues)\n",
    "plt.yticks(np.arange(0.5,len(malware_xtab.index), 1), malware_xtab.index)\n",
    "plt.xticks(np.arange(0.5,len(malware_xtab.columns), 1), malware_xtab.columns, rotation=45, ha=\"right\")\n",
    "plt.colorbar()\n",
    "plt.rcParams[\"figure.figsize\"] = (10,10)\n",
    "# plt.tick_params(axis='x', colors='white')\n",
    "# plt.tick_params(axis='y', colors='white')\n",
    "# cb.ax.yaxis.set_tick_params(colors='white')"
   ]
  },
  {
   "cell_type": "markdown",
   "metadata": {},
   "source": [
    "### Physical"
   ]
  },
  {
   "cell_type": "code",
   "execution_count": 195,
   "metadata": {},
   "outputs": [
    {
     "data": {
      "image/png": "[encoded data removed]",
      "text/plain": [
       "<Figure size 720x720 with 2 Axes>"
      ]
     },
     "metadata": {
      "needs_background": "light"
     },
     "output_type": "display_data"
    }
   ],
   "source": [
    "physical = v.enum_summary(df, 'action.physical.variety', by='impact.overall_rating')\n",
    "physical = physical[physical['x'] > 0] #remove enums with no data\n",
    "# physical.head(50)\n",
    "physical_xtab = pd.pivot_table(physical, values='x', index=['enum'],\n",
    "                    columns=['by'], aggfunc=np.sum)\n",
    "physical_xtab = physical_xtab.drop('impact.overall_rating.Unknown', axis=1)\n",
    "\n",
    "physical_fig = plt.pcolor(physical_xtab, cmap=cm.Blues)\n",
    "plt.yticks(np.arange(0.5,len(physical_xtab.index), 1), physical_xtab.index)\n",
    "plt.xticks(np.arange(0.5,len(physical_xtab.columns), 1), physical_xtab.columns, rotation=45, ha=\"right\")\n",
    "plt.colorbar()\n",
    "plt.rcParams[\"figure.figsize\"] = (10,10)\n",
    "# plt.tick_params(axis='x', colors='white')\n",
    "# plt.tick_params(axis='y', colors='white')\n",
    "# cb.ax.yaxis.set_tick_params(colors='white')"
   ]
  },
  {
   "cell_type": "markdown",
   "metadata": {},
   "source": [
    "### Social"
   ]
  },
  {
   "cell_type": "code",
   "execution_count": 198,
   "metadata": {},
   "outputs": [
    {
     "data": {
      "image/png": "[encoded data removed]",
      "text/plain": [
       "<Figure size 720x720 with 2 Axes>"
      ]
     },
     "metadata": {},
     "output_type": "display_data"
    }
   ],
   "source": [
    "social = v.enum_summary(df, 'action.social.variety', by='impact.overall_rating')\n",
    "social = social[social['x'] > 0] #remove enums with no data\n",
    "# social.head(50)\n",
    "social_xtab = pd.pivot_table(social, values='x', index=['enum'],\n",
    "                    columns=['by'], aggfunc=np.sum)\n",
    "social_xtab = social_xtab.drop('impact.overall_rating.Unknown', axis=1)\n",
    "\n",
    "social_fig = plt.pcolor(social_xtab, cmap=cm.Blues)\n",
    "plt.yticks(np.arange(0.5,len(social_xtab.index), 1), social_xtab.index)\n",
    "plt.xticks(np.arange(0.5,len(social_xtab.columns), 1), social_xtab.columns, rotation=45, ha=\"right\")\n",
    "cb = plt.colorbar()\n",
    "plt.rcParams[\"figure.figsize\"] = (10,10)\n",
    "# plt.tick_params(axis='x', colors='white')\n",
    "# plt.tick_params(axis='y', colors='white')\n",
    "# cb.ax.yaxis.set_tick_params(colors='white')"
   ]
  },
  {
   "cell_type": "code",
   "execution_count": null,
   "metadata": {},
   "outputs": [],
   "source": []
  }
 ],
 "metadata": {
  "kernelspec": {
   "display_name": "Python 3",
   "language": "python",
   "name": "python3"
  },
  "language_info": {
   "codemirror_mode": {
    "name": "ipython",
    "version": 3
   },
   "file_extension": ".py",
   "mimetype": "text/x-python",
   "name": "python",
   "nbconvert_exporter": "python",
   "pygments_lexer": "ipython3",
   "version": "3.8.3"
  }
 },
 "nbformat": 4,
 "nbformat_minor": 4
}
