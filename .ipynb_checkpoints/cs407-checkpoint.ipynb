{
 "cells": [
  {
   "cell_type": "code",
   "execution_count": 36,
   "metadata": {},
   "outputs": [],
   "source": [
    "from verispy import VERIS\n",
    "data_dir = \"F:\\\\unay\\\\4th\\\\cs\\\\sec\\\\VCDB\\\\data\\\\json\\\\validated\""
   ]
  },
  {
   "cell_type": "code",
   "execution_count": 37,
   "metadata": {},
   "outputs": [
    {
     "name": "stdout",
     "output_type": "stream",
     "text": [
      "Found 8622 json files.\n"
     ]
    }
   ],
   "source": [
    "v = VERIS(json_dir=data_dir)"
   ]
  },
  {
   "cell_type": "code",
   "execution_count": 38,
   "metadata": {},
   "outputs": [
    {
     "name": "stdout",
     "output_type": "stream",
     "text": [
      "Loading schema\n"
     ]
    },
    {
     "name": "stderr",
     "output_type": "stream",
     "text": [
      " 14%|██████████▋                                                                 | 1213/8622 [00:00<00:01, 5832.08it/s]"
     ]
    },
    {
     "name": "stdout",
     "output_type": "stream",
     "text": [
      "Loading JSON files to DataFrame.\n"
     ]
    },
    {
     "name": "stderr",
     "output_type": "stream",
     "text": [
      "100%|████████████████████████████████████████████████████████████████████████████| 8622/8622 [00:01<00:00, 5596.92it/s]\n",
      "  5%|████▎                                                                             | 9/173 [00:00<00:02, 72.19it/s]"
     ]
    },
    {
     "name": "stdout",
     "output_type": "stream",
     "text": [
      "Finished loading JSON files to dataframe.\n",
      "Building DataFrame with enumerations.\n",
      "Building enumeration columns.\n"
     ]
    },
    {
     "name": "stderr",
     "output_type": "stream",
     "text": [
      "100%|████████████████████████████████████████████████████████████████████████████████| 173/173 [00:09<00:00, 18.79it/s]\n"
     ]
    },
    {
     "name": "stdout",
     "output_type": "stream",
     "text": [
      "Done building DataFrame with enumerations.\n",
      "Post-Processing DataFrame (A4 Names, Victim Industries, Patterns)\n",
      "Finished building VERIS DataFrame\n"
     ]
    }
   ],
   "source": [
    "df = v.json_to_df(verbose=True)"
   ]
  },
  {
   "cell_type": "code",
   "execution_count": 39,
   "metadata": {},
   "outputs": [
    {
     "name": "stdout",
     "output_type": "stream",
     "text": [
      "{'security_incident': ['Confirmed', 'Suspected', 'Near miss', 'False positive'], 'confidence': ['High', 'Medium', 'Low', 'None'], 'timeline.compromise.unit': ['Seconds', 'Minutes', 'Hours', 'Days', 'Weeks', 'Months', 'Years', 'Never', 'NA', 'Unknown'], 'timeline.exfiltration.unit': ['Seconds', 'Minutes', 'Hours', 'Days', 'Weeks', 'Months', 'Years', 'Never', 'NA', 'Unknown'], 'timeline.discovery.unit': ['Seconds', 'Minutes', 'Hours', 'Days', 'Weeks', 'Months', 'Years', 'Never', 'NA', 'Unknown'], 'timeline.containment.unit': ['Seconds', 'Minutes', 'Hours', 'Days', 'Weeks', 'Months', 'Years', 'Never', 'NA', 'Unknown'], 'victim.employee_count': ['Small', '1 to 10', '11 to 100', '101 to 1000', 'Large', '1001 to 10000', '10001 to 25000', '25001 to 50000', '50001 to 100000', 'Over 100000', 'Unknown'], 'victim.country': ['Unknown', 'AD', 'AE', 'AF', 'AG', 'AI', 'AL', 'AM', 'AO', 'AQ', 'AR', 'AS', 'AT', 'AU', 'AW', 'AX', 'AZ', 'BA', 'BB', 'BD', 'BE', 'BF', 'BG', 'BH', 'BI', 'BJ', 'BL', 'BM', 'BN', 'BO', 'BQ', 'BR', 'BS', 'BT', 'BV', 'BW', 'BY', 'BZ', 'CA', 'CC', 'CD', 'CF', 'CG', 'CH', 'CI', 'CK', 'CL', 'CM', 'CN', 'CO', 'CR', 'CU', 'CV', 'CW', 'CX', 'CY', 'CZ', 'DE', 'DJ', 'DK', 'DM', 'DO', 'DZ', 'EC', 'EE', 'EG', 'EH', 'ER', 'ES', 'ET', 'FI', 'FJ', 'FK', 'FM', 'FO', 'FR', 'GA', 'GB', 'GD', 'GE', 'GF', 'GG', 'GH', 'GI', 'GL', 'GM', 'GN', 'GP', 'GQ', 'GR', 'GS', 'GT', 'GU', 'GW', 'GY', 'HK', 'HM', 'HN', 'HR', 'HT', 'HU', 'ID', 'IE', 'IL', 'IM', 'IN', 'IO', 'IQ', 'IR', 'IS', 'IT', 'JE', 'JM', 'JO', 'JP', 'KE', 'KG', 'KH', 'KI', 'KM', 'KN', 'KP', 'KR', 'KW', 'KY', 'KZ', 'LA', 'LB', 'LC', 'LI', 'LK', 'LR', 'LS', 'LT', 'LU', 'LV', 'LY', 'MA', 'MC', 'MD', 'ME', 'MF', 'MG', 'MH', 'MK', 'ML', 'MM', 'MN', 'MO', 'MP', 'MQ', 'MR', 'MS', 'MT', 'MU', 'MV', 'MW', 'MX', 'MY', 'MZ', 'NA', 'NC', 'NE', 'NF', 'NG', 'NI', 'NL', 'NO', 'NP', 'NR', 'NU', 'NZ', 'OM', 'PA', 'PE', 'PF', 'PG', 'PH', 'PK', 'PL', 'PM', 'PN', 'PR', 'PS', 'PT', 'PW', 'PY', 'QA', 'RE', 'RO', 'RS', 'RU', 'RW', 'SA', 'SB', 'SC', 'SD', 'SE', 'SG', 'SH', 'SI', 'SJ', 'SK', 'SL', 'SM', 'SN', 'SO', 'SR', 'SS', 'ST', 'SV', 'SX', 'SY', 'SZ', 'TC', 'TD', 'TF', 'TG', 'TH', 'TJ', 'TK', 'TL', 'TM', 'TN', 'TO', 'TR', 'TT', 'TV', 'TW', 'TZ', 'UA', 'UG', 'UM', 'US', 'UY', 'UZ', 'VA', 'VC', 'VE', 'VG', 'VI', 'VN', 'VU', 'WF', 'WS', 'YE', 'YT', 'ZA', 'ZM', 'ZW', 'Other'], 'victim.revenue.iso_currency_code': ['AED', 'AFN', 'ALL', 'AMD', 'ANG', 'AOA', 'ARS', 'AUD', 'AWG', 'AZN', 'BAM', 'BBD', 'BDT', 'BGN', 'BHD', 'BIF', 'BMD', 'BND', 'BOB', 'BRL', 'BSD', 'BTN', 'BWP', 'BYR', 'BZD', 'CAD', 'CDF', 'CHF', 'CLP', 'CNY', 'COP', 'CRC', 'CUC', 'CUP', 'CVE', 'CZK', 'DJF', 'DKK', 'DOP', 'DZD', 'EGP', 'ERN', 'ETB', 'EUR', 'FJD', 'FKP', 'GBP', 'GEL', 'GGP', 'GHS', 'GIP', 'GMD', 'GNF', 'GTQ', 'GYD', 'HKD', 'HNL', 'HRK', 'HTG', 'HUF', 'IDR', 'ILS', 'IMP', 'INR', 'IQD', 'IRR', 'ISK', 'JEP', 'JMD', 'JOD', 'JPY', 'KES', 'KGS', 'KHR', 'KMF', 'KPW', 'KRW', 'KWD', 'KYD', 'KZT', 'LAK', 'LBP', 'LKR', 'LRD', 'LSL', 'LTL', 'LVL', 'LYD', 'MAD', 'MDL', 'MGA', 'MKD', 'MMK', 'MNT', 'MOP', 'MRO', 'MUR', 'MVR', 'MWK', 'MXN', 'MYR', 'MZN', 'NAD', 'NGN', 'NIO', 'NOK', 'NPR', 'NZD', 'OMR', 'PAB', 'PEN', 'PGK', 'PHP', 'PKR', 'PLN', 'PYG', 'QAR', 'RON', 'RSD', 'RUB', 'RWF', 'SAR', 'SBD', 'SCR', 'SDG', 'SEK', 'SGD', 'SHP', 'SLL', 'SOS', 'SPL', 'SRD', 'STD', 'SVC', 'SYP', 'SZL', 'THB', 'TJS', 'TMT', 'TND', 'TOP', 'TRY', 'TTD', 'TVD', 'TWD', 'TZS', 'UAH', 'UGX', 'USD', 'UYU', 'UZS', 'VEF', 'VND', 'VUV', 'WST', 'XAF', 'XCD', 'XDR', 'XOF', 'XPF', 'YER', 'ZAR', 'ZMK', 'ZWD'], 'action.hacking.variety': ['Abuse of functionality', 'Brute force', 'Buffer overflow', 'Cache poisoning', 'Cryptanalysis', 'CSRF', 'DoS', 'Exploit misconfig', 'Exploit vuln', 'Footprinting', 'Forced browsing', 'Format string attack', 'Fuzz testing', 'HTTP request smuggling', 'HTTP request splitting', 'HTTP response smuggling', 'HTTP Response Splitting', 'Insecure deserialization', 'Integer overflows', 'LDAP injection', 'Mail command injection', 'MitM', 'Null byte injection', 'Offline cracking', 'OS commanding', 'Pass-the-hash', 'Path traversal', 'Reverse engineering', 'RFI', 'Routing detour', 'Session fixation', 'Session prediction', 'Session replay', 'Soap array abuse', 'Special element injection', 'SQLi', 'SSI injection', 'URL redirector abuse', 'Use of backdoor or C2', 'Use of stolen creds', 'User breakout', 'Virtual machine escape', 'XML attribute blowup', 'XML entity expansion', 'XML external entities', 'XML injection', 'XPath injection', 'XQuery injection', 'XSS', 'Other', 'Unknown'], 'action.hacking.vector': ['3rd party desktop', 'Backdoor or C2', 'Command shell', 'Desktop sharing', 'Desktop sharing software', 'Hypervisor', 'Inter-tenant', 'Other', 'Partner', 'Physical access', 'VPN', 'Web application', 'Unknown'], 'action.hacking.result': ['Infiltrate', 'Exfiltrate', 'Elevate'], 'action.malware.variety': ['Adminware', 'Adware', 'Backdoor', 'Brute force', 'C2', 'Capture app data', 'Capture stored data', 'Click fraud', 'Click fraud and cryptocurrency mining', 'Client-side attack', 'Cryptocurrency mining', 'Destroy data', 'Modify data', 'Disable controls', 'DoS', 'Downloader', 'Exploit misconfig', 'Exploit vuln', 'Export data', 'Packet sniffer', 'Password dumper', 'Ram scraper', 'Ransomware', 'RAT', 'Rootkit', 'Scan network', 'Spam', 'Spyware/Keylogger', 'SQL injection', 'Trojan', 'Worm', 'Other', 'Unknown'], 'action.malware.vector': ['Direct install', 'Download by malware', 'Email', 'Email attachment', 'Email autoexecute', 'Email link', 'Email unknown', 'Email other', 'Instant messaging', 'Network propagation', 'Remote injection', 'Removable media', 'Software update', 'Web download', 'Web drive-by', 'Other', 'Unknown'], 'action.malware.result': ['Infiltrate', 'Exfiltrate', 'Elevate'], 'action.social.variety': ['Baiting', 'Bribery', 'Elicitation', 'Extortion', 'Forgery', 'Influence', 'Phishing', 'Pretexting', 'Propaganda', 'Scam', 'Spam', 'Other', 'Unknown'], 'action.social.vector': ['Documents', 'Email', 'IM', 'In-person', 'Phone', 'Removable media', 'SMS', 'Social media', 'Software', 'Website', 'Other', 'Unknown'], 'action.social.target': ['Auditor', 'Call center', 'Cashier', 'Customer', 'Developer', 'End-user', 'End-user or employee', 'Executive', 'Finance', 'Former employee', 'Guard', 'Helpdesk', 'Human resources', 'Maintenance', 'Manager', 'Other employee', 'Partner', 'System admin', 'Other', 'Unknown'], 'action.social.result': ['Infiltrate', 'Exfiltrate', 'Elevate'], 'action.error.variety': ['Capacity shortage', 'Classification error', 'Data entry error', 'Disposal error', 'Gaffe', 'Loss', 'Maintenance error', 'Malfunction', 'Misconfiguration', 'Misdelivery', 'Misinformation', 'Omission', 'Physical accidents', 'Programming error', 'Publishing error', 'Other', 'Unknown'], 'action.error.vector': ['Carelessness', 'Inadequate personnel', 'Inadequate processes', 'Inadequate technology', 'Other', 'Random error', 'Unknown'], 'action.misuse.variety': ['Data mishandling', 'Email misuse', 'Illicit content', 'Knowledge abuse', 'Net misuse', 'Possession abuse', 'Privilege abuse', 'Snap picture', 'Unapproved hardware', 'Unapproved software', 'Unapproved workaround', 'Other', 'Unknown'], 'action.misuse.vector': ['LAN access', 'Non-corporate', 'Physical access', 'Remote access', 'Other', 'Unknown'], 'action.misuse.result': ['Infiltrate', 'Exfiltrate', 'Elevate'], 'action.physical.variety': ['Assault', 'Bypassed controls', 'Connection', 'Destruction', 'Disabled controls', 'Skimmer', 'Snooping', 'Surveillance', 'Tampering', 'Theft', 'Wiretapping', 'Other', 'Unknown'], 'action.physical.vector': ['Partner facility', 'Partner vehicle', 'Personal residence', 'Personal vehicle', 'Privileged access', 'Public facility', 'Public vehicle', 'Uncontrolled location', 'Victim grounds', 'Victim public area', 'Victim secure area', 'Victim work area', 'Visitor privileges', 'Unknown', 'Other'], 'action.physical.result': ['Infiltrate', 'Exfiltrate', 'Elevate'], 'action.environmental.variety': ['Deterioration', 'Earthquake', 'EMI', 'ESD', 'Fire', 'Flood', 'Hazmat', 'Humidity', 'Hurricane', 'Ice', 'Landslide', 'Leak', 'Lightning', 'Meteorite', 'Particulates', 'Pathogen', 'Power failure', 'Temperature', 'Tornado', 'Tsunami', 'Vermin', 'Volcano', 'Wind', 'Other', 'Unknown'], 'action.unknown.result': ['Infiltrate', 'Exfiltrate', 'Elevate'], 'actor.external.variety': ['Acquaintance', 'Activist', 'Auditor', 'Competitor', 'Customer', 'Force majeure', 'Former employee', 'Nation-state', 'Organized crime', 'State-affiliated', 'Terrorist', 'Unaffiliated', 'Other', 'Unknown'], 'actor.external.motive': ['Convenience', 'Espionage', 'Fear', 'Financial', 'Fun', 'Grudge', 'Ideology', 'NA', 'Secondary', 'Other', 'Unknown'], 'actor.external.country': ['Unknown', 'AD', 'AE', 'AF', 'AG', 'AI', 'AL', 'AM', 'AO', 'AQ', 'AR', 'AS', 'AT', 'AU', 'AW', 'AX', 'AZ', 'BA', 'BB', 'BD', 'BE', 'BF', 'BG', 'BH', 'BI', 'BJ', 'BL', 'BM', 'BN', 'BO', 'BQ', 'BR', 'BS', 'BT', 'BV', 'BW', 'BY', 'BZ', 'CA', 'CC', 'CD', 'CF', 'CG', 'CH', 'CI', 'CK', 'CL', 'CM', 'CN', 'CO', 'CR', 'CU', 'CV', 'CW', 'CX', 'CY', 'CZ', 'DE', 'DJ', 'DK', 'DM', 'DO', 'DZ', 'EC', 'EE', 'EG', 'EH', 'ER', 'ES', 'ET', 'FI', 'FJ', 'FK', 'FM', 'FO', 'FR', 'GA', 'GB', 'GD', 'GE', 'GF', 'GG', 'GH', 'GI', 'GL', 'GM', 'GN', 'GP', 'GQ', 'GR', 'GS', 'GT', 'GU', 'GW', 'GY', 'HK', 'HM', 'HN', 'HR', 'HT', 'HU', 'ID', 'IE', 'IL', 'IM', 'IN', 'IO', 'IQ', 'IR', 'IS', 'IT', 'JE', 'JM', 'JO', 'JP', 'KE', 'KG', 'KH', 'KI', 'KM', 'KN', 'KP', 'KR', 'KW', 'KY', 'KZ', 'LA', 'LB', 'LC', 'LI', 'LK', 'LR', 'LS', 'LT', 'LU', 'LV', 'LY', 'MA', 'MC', 'MD', 'ME', 'MF', 'MG', 'MH', 'MK', 'ML', 'MM', 'MN', 'MO', 'MP', 'MQ', 'MR', 'MS', 'MT', 'MU', 'MV', 'MW', 'MX', 'MY', 'MZ', 'NA', 'NC', 'NE', 'NF', 'NG', 'NI', 'NL', 'NO', 'NP', 'NR', 'NU', 'NZ', 'OM', 'PA', 'PE', 'PF', 'PG', 'PH', 'PK', 'PL', 'PM', 'PN', 'PR', 'PS', 'PT', 'PW', 'PY', 'QA', 'RE', 'RO', 'RS', 'RU', 'RW', 'SA', 'SB', 'SC', 'SD', 'SE', 'SG', 'SH', 'SI', 'SJ', 'SK', 'SL', 'SM', 'SN', 'SO', 'SR', 'SS', 'ST', 'SV', 'SX', 'SY', 'SZ', 'TC', 'TD', 'TF', 'TG', 'TH', 'TJ', 'TK', 'TL', 'TM', 'TN', 'TO', 'TR', 'TT', 'TV', 'TW', 'TZ', 'UA', 'UG', 'UM', 'US', 'UY', 'UZ', 'VA', 'VC', 'VE', 'VG', 'VI', 'VN', 'VU', 'WF', 'WS', 'YE', 'YT', 'ZA', 'ZM', 'ZW', 'Other'], 'actor.internal.variety': ['Auditor', 'Call center', 'Cashier', 'Developer', 'End-user', 'Executive', 'Finance', 'Guard', 'Helpdesk', 'Human resources', 'Maintenance', 'Manager', 'System admin', 'Doctor or nurse', 'Other', 'Unknown'], 'actor.internal.motive': ['Convenience', 'Espionage', 'Fear', 'Financial', 'Fun', 'Grudge', 'Ideology', 'Secondary', 'NA', 'Other', 'Unknown'], 'actor.internal.job_change': ['Demoted', 'Hired', 'Job eval', 'Lateral move', 'Let go', 'Passed over', 'Personal issues', 'Promoted', 'Reprimanded', 'Resigned', 'Other', 'Unknown'], 'actor.partner.motive': ['Convenience', 'Espionage', 'Fear', 'Financial', 'Fun', 'Grudge', 'Ideology', 'Secondary', 'NA', 'Other', 'Unknown'], 'actor.partner.country': ['Unknown', 'AD', 'AE', 'AF', 'AG', 'AI', 'AL', 'AM', 'AO', 'AQ', 'AR', 'AS', 'AT', 'AU', 'AW', 'AX', 'AZ', 'BA', 'BB', 'BD', 'BE', 'BF', 'BG', 'BH', 'BI', 'BJ', 'BL', 'BM', 'BN', 'BO', 'BQ', 'BR', 'BS', 'BT', 'BV', 'BW', 'BY', 'BZ', 'CA', 'CC', 'CD', 'CF', 'CG', 'CH', 'CI', 'CK', 'CL', 'CM', 'CN', 'CO', 'CR', 'CU', 'CV', 'CW', 'CX', 'CY', 'CZ', 'DE', 'DJ', 'DK', 'DM', 'DO', 'DZ', 'EC', 'EE', 'EG', 'EH', 'ER', 'ES', 'ET', 'FI', 'FJ', 'FK', 'FM', 'FO', 'FR', 'GA', 'GB', 'GD', 'GE', 'GF', 'GG', 'GH', 'GI', 'GL', 'GM', 'GN', 'GP', 'GQ', 'GR', 'GS', 'GT', 'GU', 'GW', 'GY', 'HK', 'HM', 'HN', 'HR', 'HT', 'HU', 'ID', 'IE', 'IL', 'IM', 'IN', 'IO', 'IQ', 'IR', 'IS', 'IT', 'JE', 'JM', 'JO', 'JP', 'KE', 'KG', 'KH', 'KI', 'KM', 'KN', 'KP', 'KR', 'KW', 'KY', 'KZ', 'LA', 'LB', 'LC', 'LI', 'LK', 'LR', 'LS', 'LT', 'LU', 'LV', 'LY', 'MA', 'MC', 'MD', 'ME', 'MF', 'MG', 'MH', 'MK', 'ML', 'MM', 'MN', 'MO', 'MP', 'MQ', 'MR', 'MS', 'MT', 'MU', 'MV', 'MW', 'MX', 'MY', 'MZ', 'NA', 'NC', 'NE', 'NF', 'NG', 'NI', 'NL', 'NO', 'NP', 'NR', 'NU', 'NZ', 'OM', 'PA', 'PE', 'PF', 'PG', 'PH', 'PK', 'PL', 'PM', 'PN', 'PR', 'PS', 'PT', 'PW', 'PY', 'QA', 'RE', 'RO', 'RS', 'RU', 'RW', 'SA', 'SB', 'SC', 'SD', 'SE', 'SG', 'SH', 'SI', 'SJ', 'SK', 'SL', 'SM', 'SN', 'SO', 'SR', 'SS', 'ST', 'SV', 'SX', 'SY', 'SZ', 'TC', 'TD', 'TF', 'TG', 'TH', 'TJ', 'TK', 'TL', 'TM', 'TN', 'TO', 'TR', 'TT', 'TV', 'TW', 'TZ', 'UA', 'UG', 'UM', 'US', 'UY', 'UZ', 'VA', 'VC', 'VE', 'VG', 'VI', 'VN', 'VU', 'WF', 'WS', 'YE', 'YT', 'ZA', 'ZM', 'ZW', 'Other'], 'asset.assets.variety': ['M - Disk drive', 'M - Disk media', 'M - Documents', 'M - Flash drive', 'M - Payment card', 'M - Smart card', 'M - Tapes', 'M - Other', 'M - Unknown', 'M - Fax', 'N - Access reader', 'N - Broadband', 'N - Camera', 'N - Firewall', 'N - HSM', 'N - IDS', 'N - LAN', 'N - NAS', 'N - PBX', 'N - PLC', 'N - Private WAN', 'N - Public WAN', 'N - Router or switch', 'N - RTU', 'N - SAN', 'N - Telephone', 'N - VoIP adapter', 'N - WLAN', 'N - Other', 'N - Unknown', 'P - Auditor', 'P - Call center', 'P - Cashier', 'P - Customer', 'P - Developer', 'P - End-user', 'P - Executive', 'P - Finance', 'P - Former employee', 'P - Guard', 'P - Helpdesk', 'P - Human resources', 'P - Maintenance', 'P - Manager', 'P - Partner', 'P - System admin', 'P - Other', 'P - Unknown', 'S - Authentication', 'S - Backup', 'S - Configuration or patch management', 'S - Code repository', 'S - Database', 'S - DCS', 'S - DHCP', 'S - Directory', 'S - DNS', 'S - File', 'S - ICS', 'S - Log', 'S - Mail', 'S - Mainframe', 'S - Payment switch', 'S - POS controller', 'S - Print', 'S - Proxy', 'S - Remote access', 'S - VM host', 'S - Web application', 'S - Other', 'S - Unknown', 'T - ATM', 'T - Gas terminal', 'T - Kiosk', 'T - PED pad', 'T - Other', 'T - Unknown', 'U - Auth token', 'U - Desktop', 'U - Desktop or laptop', 'U - Laptop', 'U - Media', 'U - Mobile phone', 'U - Peripheral', 'U - POS terminal', 'U - Tablet', 'U - Telephone', 'U - VoIP phone', 'U - Other', 'U - Unknown', 'E - Telemetry', 'E - Telematics', 'E - Other', 'E - Unknown', 'Unknown', 'Other'], 'asset.assets.amount': ['M - Disk drive', 'M - Disk media', 'M - Documents', 'M - Flash drive', 'M - Payment card', 'M - Smart card', 'M - Tapes', 'M - Other', 'M - Unknown', 'M - Fax', 'N - Access reader', 'N - Broadband', 'N - Camera', 'N - Firewall', 'N - HSM', 'N - IDS', 'N - LAN', 'N - NAS', 'N - PBX', 'N - PLC', 'N - Private WAN', 'N - Public WAN', 'N - Router or switch', 'N - RTU', 'N - SAN', 'N - Telephone', 'N - VoIP adapter', 'N - WLAN', 'N - Other', 'N - Unknown', 'P - Auditor', 'P - Call center', 'P - Cashier', 'P - Customer', 'P - Developer', 'P - End-user', 'P - Executive', 'P - Finance', 'P - Former employee', 'P - Guard', 'P - Helpdesk', 'P - Human resources', 'P - Maintenance', 'P - Manager', 'P - Partner', 'P - System admin', 'P - Other', 'P - Unknown', 'S - Authentication', 'S - Backup', 'S - Configuration or patch management', 'S - Code repository', 'S - Database', 'S - DCS', 'S - DHCP', 'S - Directory', 'S - DNS', 'S - File', 'S - ICS', 'S - Log', 'S - Mail', 'S - Mainframe', 'S - Payment switch', 'S - POS controller', 'S - Print', 'S - Proxy', 'S - Remote access', 'S - VM host', 'S - Web application', 'S - Other', 'S - Unknown', 'T - ATM', 'T - Gas terminal', 'T - Kiosk', 'T - PED pad', 'T - Other', 'T - Unknown', 'U - Auth token', 'U - Desktop', 'U - Desktop or laptop', 'U - Laptop', 'U - Media', 'U - Mobile phone', 'U - Peripheral', 'U - POS terminal', 'U - Tablet', 'U - Telephone', 'U - VoIP phone', 'U - Other', 'U - Unknown', 'E - Telemetry', 'E - Telematics', 'E - Other', 'E - Unknown', 'Unknown', 'Other'], 'asset.ownership': ['Customer', 'Employee', 'NA', 'Partner', 'Unknown', 'Victim', 'Other'], 'asset.cloud': ['On-Premise Asset(s)', 'External Cloud Asset(s)', 'Other', 'Unknown', 'NA'], 'asset.hosting': ['External - unknown environment', 'External - dedicated environment', 'External - shared environment', 'Internal', 'NA', 'Other', 'Unknown'], 'asset.management': ['External', 'Internal', 'Co-managed', 'NA', 'Unknown', 'Other'], 'asset.role': ['IT', 'OT', 'Unknown', 'Other', 'NA'], 'asset.country': ['Unknown', 'AD', 'AE', 'AF', 'AG', 'AI', 'AL', 'AM', 'AO', 'AQ', 'AR', 'AS', 'AT', 'AU', 'AW', 'AX', 'AZ', 'BA', 'BB', 'BD', 'BE', 'BF', 'BG', 'BH', 'BI', 'BJ', 'BL', 'BM', 'BN', 'BO', 'BQ', 'BR', 'BS', 'BT', 'BV', 'BW', 'BY', 'BZ', 'CA', 'CC', 'CD', 'CF', 'CG', 'CH', 'CI', 'CK', 'CL', 'CM', 'CN', 'CO', 'CR', 'CU', 'CV', 'CW', 'CX', 'CY', 'CZ', 'DE', 'DJ', 'DK', 'DM', 'DO', 'DZ', 'EC', 'EE', 'EG', 'EH', 'ER', 'ES', 'ET', 'FI', 'FJ', 'FK', 'FM', 'FO', 'FR', 'GA', 'GB', 'GD', 'GE', 'GF', 'GG', 'GH', 'GI', 'GL', 'GM', 'GN', 'GP', 'GQ', 'GR', 'GS', 'GT', 'GU', 'GW', 'GY', 'HK', 'HM', 'HN', 'HR', 'HT', 'HU', 'ID', 'IE', 'IL', 'IM', 'IN', 'IO', 'IQ', 'IR', 'IS', 'IT', 'JE', 'JM', 'JO', 'JP', 'KE', 'KG', 'KH', 'KI', 'KM', 'KN', 'KP', 'KR', 'KW', 'KY', 'KZ', 'LA', 'LB', 'LC', 'LI', 'LK', 'LR', 'LS', 'LT', 'LU', 'LV', 'LY', 'MA', 'MC', 'MD', 'ME', 'MF', 'MG', 'MH', 'MK', 'ML', 'MM', 'MN', 'MO', 'MP', 'MQ', 'MR', 'MS', 'MT', 'MU', 'MV', 'MW', 'MX', 'MY', 'MZ', 'NA', 'NC', 'NE', 'NF', 'NG', 'NI', 'NL', 'NO', 'NP', 'NR', 'NU', 'NZ', 'OM', 'PA', 'PE', 'PF', 'PG', 'PH', 'PK', 'PL', 'PM', 'PN', 'PR', 'PS', 'PT', 'PW', 'PY', 'QA', 'RE', 'RO', 'RS', 'RU', 'RW', 'SA', 'SB', 'SC', 'SD', 'SE', 'SG', 'SH', 'SI', 'SJ', 'SK', 'SL', 'SM', 'SN', 'SO', 'SR', 'SS', 'ST', 'SV', 'SX', 'SY', 'SZ', 'TC', 'TD', 'TF', 'TG', 'TH', 'TJ', 'TK', 'TL', 'TM', 'TN', 'TO', 'TR', 'TT', 'TV', 'TW', 'TZ', 'UA', 'UG', 'UM', 'US', 'UY', 'UZ', 'VA', 'VC', 'VE', 'VG', 'VI', 'VN', 'VU', 'WF', 'WS', 'YE', 'YT', 'ZA', 'ZM', 'ZW', 'Other'], 'attribute.confidentiality.data_disclosure': ['No', 'Potentially', 'Yes', 'Unknown'], 'attribute.confidentiality.data.amount': ['Bank', 'Classified', 'Copyrighted', 'Credentials', 'Digital certificate', 'Internal', 'Medical', 'Payment', 'Personal', 'Secrets', 'Source code', 'System', 'Virtual currency', 'Other', 'Unknown'], 'attribute.confidentiality.data.variety': ['Bank', 'Classified', 'Copyrighted', 'Credentials', 'Digital certificate', 'Internal', 'Medical', 'Payment', 'Personal', 'Secrets', 'Source code', 'System', 'Virtual currency', 'Other', 'Unknown'], 'attribute.confidentiality.data_victim': ['Customer', 'Employee', 'Partner', 'Patient', 'Student', 'Victim organization', 'Other', 'Unknown'], 'attribute.confidentiality.state': ['Processed', 'Stored', 'Stored encrypted', 'Stored unencrypted', 'Transmitted', 'Transmitted encrypted', 'Transmitted unencrypted', 'Other', 'Unknown', 'Printed'], 'attribute.integrity.variety': ['Alter behavior', 'Created account', 'Defacement', 'Fraudulent transaction', 'Hardware tampering', 'Log tampering', 'Misrepresentation', 'Modify configuration', 'Modify data', 'Modify privileges', 'Repurpose', 'Software installation', 'Other', 'Unknown'], 'attribute.availability.variety': ['Acceleration', 'Degradation', 'Destruction', 'Interruption', 'Loss', 'Obscuration', 'Other', 'Unknown'], 'attribute.availability.duration.unit': ['Seconds', 'Minutes', 'Hours', 'Days', 'Weeks', 'Months', 'Years', 'Never', 'NA', 'Unknown'], 'targeted': ['Opportunistic', 'Targeted', 'NA', 'Unknown'], 'discovery_method.external.variety': ['Actor disclosure', 'Audit', 'Customer', 'Emergency response team', 'Found documents', 'Fraud detection', 'Incident response', 'Law enforcement', 'Monitoring service', 'Other', 'Security researcher', 'Suspicious traffic', 'Unknown', 'Unrelated 3rd party'], 'discovery_method.internal.variety': ['Antivirus', 'Break in discovered', 'Data loss prevention', 'Financial audit', 'Fraud detection', 'Hids', 'Incident response', 'Infrastructure monitoring', 'It review', 'Log review', 'Nids', 'Other', 'Reported by employee', 'Security alarm', 'Unknown'], 'discovery_method.partner.variety': ['Antivirus', 'Audit', 'Incident response', 'Monitoring service', 'Other', 'Unknown'], 'value_chain.development.variety': ['Bot', 'Trojan', 'Payload', 'Website', 'Exploit', 'Persona', 'Ransomware', 'Exploit Kits', 'NA', 'Other', 'Unknown'], 'value_chain.non-distribution services.variety': ['Hashcracking', 'Counter AV', 'VPN', 'Proxy', 'Marketplace', 'DNS', 'Escrow', 'NA', 'Other', 'Unknown'], 'value_chain.targeting.variety': ['Lost or stolen credentials', 'Default credentials', 'Email addresses', 'Vulnerabilities', 'Misconfigurations', 'Weaknesses', 'Personal Information', 'Organizational Information', 'NA', 'Other', 'Unknown'], 'value_chain.distribution.variety': ['Website', 'Botnet', 'Compromised server', 'Email', 'Phone', 'Loader', 'NA', 'Other', 'Unknown'], 'value_chain.cash-out.variety': ['Cryptocurrency', 'Hijacked rewards', 'Sell stolen goods', 'Fraud', 'Direct', 'Provide service', 'NA', 'Other', 'Unknown'], 'value_chain.money laundering.variety': ['Cryptocurrency tumbling', 'Smurfing', 'Physical', 'Employment', 'Re-shipping', 'Gambling', 'Bank', 'Provide service', 'Company', 'NA', 'Other', 'Unknown'], 'impact.overall_rating': ['Catastrophic', 'Damaging', 'Painful', 'Distracting', 'Insignificant', 'Unknown'], 'impact.iso_currency_code': ['AED', 'AFN', 'ALL', 'AMD', 'ANG', 'AOA', 'ARS', 'AUD', 'AWG', 'AZN', 'BAM', 'BBD', 'BDT', 'BGN', 'BHD', 'BIF', 'BMD', 'BND', 'BOB', 'BRL', 'BSD', 'BTN', 'BWP', 'BYR', 'BZD', 'CAD', 'CDF', 'CHF', 'CLP', 'CNY', 'COP', 'CRC', 'CUC', 'CUP', 'CVE', 'CZK', 'DJF', 'DKK', 'DOP', 'DZD', 'EGP', 'ERN', 'ETB', 'EUR', 'FJD', 'FKP', 'GBP', 'GEL', 'GGP', 'GHS', 'GIP', 'GMD', 'GNF', 'GTQ', 'GYD', 'HKD', 'HNL', 'HRK', 'HTG', 'HUF', 'IDR', 'ILS', 'IMP', 'INR', 'IQD', 'IRR', 'ISK', 'JEP', 'JMD', 'JOD', 'JPY', 'KES', 'KGS', 'KHR', 'KMF', 'KPW', 'KRW', 'KWD', 'KYD', 'KZT', 'LAK', 'LBP', 'LKR', 'LRD', 'LSL', 'LTL', 'LVL', 'LYD', 'MAD', 'MDL', 'MGA', 'MKD', 'MMK', 'MNT', 'MOP', 'MRO', 'MUR', 'MVR', 'MWK', 'MXN', 'MYR', 'MZN', 'NAD', 'NGN', 'NIO', 'NOK', 'NPR', 'NZD', 'OMR', 'PAB', 'PEN', 'PGK', 'PHP', 'PKR', 'PLN', 'PYG', 'QAR', 'RON', 'RSD', 'RUB', 'RWF', 'SAR', 'SBD', 'SCR', 'SDG', 'SEK', 'SGD', 'SHP', 'SLL', 'SOS', 'SPL', 'SRD', 'STD', 'SVC', 'SYP', 'SZL', 'THB', 'TJS', 'TMT', 'TND', 'TOP', 'TRY', 'TTD', 'TVD', 'TWD', 'TZS', 'UAH', 'UGX', 'USD', 'UYU', 'UZS', 'VEF', 'VND', 'VUV', 'WST', 'XAF', 'XCD', 'XDR', 'XOF', 'XPF', 'YER', 'ZAR', 'ZMK', 'ZWD'], 'impact.loss.variety': ['Asset and fraud', 'Brand damage', 'Business disruption', 'Competitive advantage', 'Legal and regulatory', 'Operating costs', 'Response and recovery', 'Other'], 'impact.loss.rating': ['Major', 'Moderate', 'Minor', 'None', 'Unknown'], 'impact.loss.amount': ['Asset and fraud', 'Brand damage', 'Business disruption', 'Competitive advantage', 'Legal and regulatory', 'Operating costs', 'Response and recovery', 'Other'], 'cost_corrective_action': ['Difficult and expensive', 'Something in-between', 'Simple and cheap', 'Unknown']}\n"
     ]
    }
   ],
   "source": [
    "print(v.enumerations)"
   ]
  },
  {
   "cell_type": "markdown",
   "metadata": {},
   "source": [
    "## How do internal and external attacks compare in terms of detectability and impact?"
   ]
  },
  {
   "cell_type": "markdown",
   "metadata": {},
   "source": [
    "#### Basic Internal and External Statistics"
   ]
  },
  {
   "cell_type": "code",
   "execution_count": 82,
   "metadata": {},
   "outputs": [],
   "source": [
    "#internal = v.enum_summary(df, 'actor.internal.variety', by='actor')\n",
    "#external = v.enum_summary(df, 'actor.external.variety', by='actor')\n",
    "actors = v.enum_summary(df, 'actor')\n",
    "actors.head()\n",
    "actors = actors[['enum', 'x']]\n",
    "actors.columns = ['Actor Type', 'Count']\n",
    "actors = actors.drop(2)\n",
    "actors = actors.drop(3)"
   ]
  },
  {
   "cell_type": "code",
   "execution_count": 79,
   "metadata": {},
   "outputs": [
    {
     "data": {
      "text/plain": [
       "(3000.0, 4500.0)"
      ]
     },
     "execution_count": 79,
     "metadata": {},
     "output_type": "execute_result"
    },
    {
     "data": {
      "image/png": "[encoded data removed]",
      "text/plain": [
       "<Figure size 432x288 with 1 Axes>"
      ]
     },
     "metadata": {
      "needs_background": "light"
     },
     "output_type": "display_data"
    }
   ],
   "source": [
    "import matplotlib.pyplot as plt\n",
    "\n",
    "\n",
    "ax = actors['Count'].plot(kind=\"bar\")\n",
    "plt.xlabel(\"Actor Type\")\n",
    "plt.ylabel(\"Count\")\n",
    "plt.title(\"Internal VS External Count\")\n",
    "ax.set_xticklabels([\"External\", \"Internal\"])\n",
    "plt.ylim(3000, 4500)"
   ]
  },
  {
   "cell_type": "code",
   "execution_count": 80,
   "metadata": {},
   "outputs": [
    {
     "data": {
      "text/html": [
       "<div>\n",
       "<style scoped>\n",
       "    .dataframe tbody tr th:only-of-type {\n",
       "        vertical-align: middle;\n",
       "    }\n",
       "\n",
       "    .dataframe tbody tr th {\n",
       "        vertical-align: top;\n",
       "    }\n",
       "\n",
       "    .dataframe thead th {\n",
       "        text-align: right;\n",
       "    }\n",
       "</style>\n",
       "<table border=\"1\" class=\"dataframe\">\n",
       "  <thead>\n",
       "    <tr style=\"text-align: right;\">\n",
       "      <th></th>\n",
       "      <th>internal Actor Motive</th>\n",
       "      <th>Count</th>\n",
       "      <th>Percentage</th>\n",
       "    </tr>\n",
       "  </thead>\n",
       "  <tbody>\n",
       "    <tr>\n",
       "      <th>1</th>\n",
       "      <td>Financial</td>\n",
       "      <td>758</td>\n",
       "      <td>56.7</td>\n",
       "    </tr>\n",
       "    <tr>\n",
       "      <th>2</th>\n",
       "      <td>Fun</td>\n",
       "      <td>267</td>\n",
       "      <td>20.0</td>\n",
       "    </tr>\n",
       "    <tr>\n",
       "      <th>3</th>\n",
       "      <td>Convenience</td>\n",
       "      <td>90</td>\n",
       "      <td>6.7</td>\n",
       "    </tr>\n",
       "    <tr>\n",
       "      <th>4</th>\n",
       "      <td>Espionage</td>\n",
       "      <td>83</td>\n",
       "      <td>6.2</td>\n",
       "    </tr>\n",
       "    <tr>\n",
       "      <th>5</th>\n",
       "      <td>Grudge</td>\n",
       "      <td>73</td>\n",
       "      <td>5.5</td>\n",
       "    </tr>\n",
       "    <tr>\n",
       "      <th>6</th>\n",
       "      <td>Other</td>\n",
       "      <td>44</td>\n",
       "      <td>3.3</td>\n",
       "    </tr>\n",
       "    <tr>\n",
       "      <th>7</th>\n",
       "      <td>Ideology</td>\n",
       "      <td>18</td>\n",
       "      <td>1.3</td>\n",
       "    </tr>\n",
       "    <tr>\n",
       "      <th>8</th>\n",
       "      <td>Fear</td>\n",
       "      <td>4</td>\n",
       "      <td>0.3</td>\n",
       "    </tr>\n",
       "    <tr>\n",
       "      <th>9</th>\n",
       "      <td>Secondary</td>\n",
       "      <td>0</td>\n",
       "      <td>0.0</td>\n",
       "    </tr>\n",
       "  </tbody>\n",
       "</table>\n",
       "</div>"
      ],
      "text/plain": [
       "  internal Actor Motive  Count  Percentage\n",
       "1             Financial    758        56.7\n",
       "2                   Fun    267        20.0\n",
       "3           Convenience     90         6.7\n",
       "4             Espionage     83         6.2\n",
       "5                Grudge     73         5.5\n",
       "6                 Other     44         3.3\n",
       "7              Ideology     18         1.3\n",
       "8                  Fear      4         0.3\n",
       "9             Secondary      0         0.0"
      ]
     },
     "execution_count": 80,
     "metadata": {},
     "output_type": "execute_result"
    }
   ],
   "source": [
    "\n",
    "\n",
    "internal = v.enum_summary(df, 'actor.internal.motive')\n",
    "internal = internal.drop(internal.index[0])\n",
    "internal = internal.drop(10)\n",
    "internal = internal[['enum', 'x']]\n",
    "internal.columns = ['internal Actor Motive', 'Count']\n",
    "\n",
    "def avg(x):\n",
    "    total = internal['Count'].sum()\n",
    "    return round((x / total) * 100, 1)\n",
    "\n",
    "internal['Percentage'] = internal['Count'].apply(lambda x: avg(x))\n",
    "internal = internal.sort_values(by='Percentage', ascending=False)\n",
    "\n",
    "internal.head(20)"
   ]
  },
  {
   "cell_type": "code",
   "execution_count": 81,
   "metadata": {},
   "outputs": [
    {
     "data": {
      "text/html": [
       "<div>\n",
       "<style scoped>\n",
       "    .dataframe tbody tr th:only-of-type {\n",
       "        vertical-align: middle;\n",
       "    }\n",
       "\n",
       "    .dataframe tbody tr th {\n",
       "        vertical-align: top;\n",
       "    }\n",
       "\n",
       "    .dataframe thead th {\n",
       "        text-align: right;\n",
       "    }\n",
       "</style>\n",
       "<table border=\"1\" class=\"dataframe\">\n",
       "  <thead>\n",
       "    <tr style=\"text-align: right;\">\n",
       "      <th></th>\n",
       "      <th>External Actor Motive</th>\n",
       "      <th>Count</th>\n",
       "      <th>Percentage</th>\n",
       "    </tr>\n",
       "  </thead>\n",
       "  <tbody>\n",
       "    <tr>\n",
       "      <th>0</th>\n",
       "      <td>Financial</td>\n",
       "      <td>2045</td>\n",
       "      <td>65.9</td>\n",
       "    </tr>\n",
       "    <tr>\n",
       "      <th>1</th>\n",
       "      <td>Ideology</td>\n",
       "      <td>387</td>\n",
       "      <td>12.5</td>\n",
       "    </tr>\n",
       "    <tr>\n",
       "      <th>2</th>\n",
       "      <td>Espionage</td>\n",
       "      <td>283</td>\n",
       "      <td>9.1</td>\n",
       "    </tr>\n",
       "    <tr>\n",
       "      <th>3</th>\n",
       "      <td>Fun</td>\n",
       "      <td>240</td>\n",
       "      <td>7.7</td>\n",
       "    </tr>\n",
       "    <tr>\n",
       "      <th>4</th>\n",
       "      <td>Grudge</td>\n",
       "      <td>109</td>\n",
       "      <td>3.5</td>\n",
       "    </tr>\n",
       "    <tr>\n",
       "      <th>6</th>\n",
       "      <td>Other</td>\n",
       "      <td>22</td>\n",
       "      <td>0.7</td>\n",
       "    </tr>\n",
       "    <tr>\n",
       "      <th>7</th>\n",
       "      <td>Secondary</td>\n",
       "      <td>13</td>\n",
       "      <td>0.4</td>\n",
       "    </tr>\n",
       "    <tr>\n",
       "      <th>8</th>\n",
       "      <td>Fear</td>\n",
       "      <td>4</td>\n",
       "      <td>0.1</td>\n",
       "    </tr>\n",
       "    <tr>\n",
       "      <th>9</th>\n",
       "      <td>Convenience</td>\n",
       "      <td>1</td>\n",
       "      <td>0.0</td>\n",
       "    </tr>\n",
       "  </tbody>\n",
       "</table>\n",
       "</div>"
      ],
      "text/plain": [
       "  External Actor Motive  Count  Percentage\n",
       "0             Financial   2045        65.9\n",
       "1              Ideology    387        12.5\n",
       "2             Espionage    283         9.1\n",
       "3                   Fun    240         7.7\n",
       "4                Grudge    109         3.5\n",
       "6                 Other     22         0.7\n",
       "7             Secondary     13         0.4\n",
       "8                  Fear      4         0.1\n",
       "9           Convenience      1         0.0"
      ]
     },
     "execution_count": 81,
     "metadata": {},
     "output_type": "execute_result"
    }
   ],
   "source": [
    "external = v.enum_summary(df, 'actor.external.motive')\n",
    "external = external.drop(10)\n",
    "external = external.drop(5)\n",
    "external = external[['enum', 'x']]\n",
    "external.columns = ['External Actor Motive', 'Count']\n",
    "\n",
    "def avg(x):\n",
    "    total = external['Count'].sum()\n",
    "    return round((x / total) * 100, 1)\n",
    "\n",
    "external['Percentage'] = external['Count'].apply(lambda x: avg(x))\n",
    "external = external.sort_values(by='Percentage', ascending=False)\n",
    "external.head(20)"
   ]
  },
  {
   "cell_type": "code",
   "execution_count": 83,
   "metadata": {},
   "outputs": [
    {
     "data": {
      "text/html": [
       "<div>\n",
       "<style scoped>\n",
       "    .dataframe tbody tr th:only-of-type {\n",
       "        vertical-align: middle;\n",
       "    }\n",
       "\n",
       "    .dataframe tbody tr th {\n",
       "        vertical-align: top;\n",
       "    }\n",
       "\n",
       "    .dataframe thead th {\n",
       "        text-align: right;\n",
       "    }\n",
       "</style>\n",
       "<table border=\"1\" class=\"dataframe\">\n",
       "  <thead>\n",
       "    <tr style=\"text-align: right;\">\n",
       "      <th></th>\n",
       "      <th>enum</th>\n",
       "      <th>x</th>\n",
       "      <th>n</th>\n",
       "      <th>freq</th>\n",
       "    </tr>\n",
       "  </thead>\n",
       "  <tbody>\n",
       "    <tr>\n",
       "      <th>0</th>\n",
       "      <td>External</td>\n",
       "      <td>4379</td>\n",
       "      <td>8410.0</td>\n",
       "      <td>0.52069</td>\n",
       "    </tr>\n",
       "    <tr>\n",
       "      <th>1</th>\n",
       "      <td>Internal</td>\n",
       "      <td>3921</td>\n",
       "      <td>8410.0</td>\n",
       "      <td>0.46623</td>\n",
       "    </tr>\n",
       "    <tr>\n",
       "      <th>2</th>\n",
       "      <td>Partner</td>\n",
       "      <td>371</td>\n",
       "      <td>8410.0</td>\n",
       "      <td>0.04411</td>\n",
       "    </tr>\n",
       "    <tr>\n",
       "      <th>3</th>\n",
       "      <td>Unknown</td>\n",
       "      <td>212</td>\n",
       "      <td>NaN</td>\n",
       "      <td>NaN</td>\n",
       "    </tr>\n",
       "  </tbody>\n",
       "</table>\n",
       "</div>"
      ],
      "text/plain": [
       "       enum     x       n     freq\n",
       "0  External  4379  8410.0  0.52069\n",
       "1  Internal  3921  8410.0  0.46623\n",
       "2   Partner   371  8410.0  0.04411\n",
       "3   Unknown   212     NaN      NaN"
      ]
     },
     "execution_count": 83,
     "metadata": {},
     "output_type": "execute_result"
    }
   ],
   "source": [
    "actors = v.enum_summary(df, 'actor')\n",
    "actors.head()"
   ]
  },
  {
   "cell_type": "code",
   "execution_count": null,
   "metadata": {},
   "outputs": [],
   "source": []
  }
 ],
 "metadata": {
  "kernelspec": {
   "display_name": "Python 3",
   "language": "python",
   "name": "python3"
  },
  "language_info": {
   "codemirror_mode": {
    "name": "ipython",
    "version": 3
   },
   "file_extension": ".py",
   "mimetype": "text/x-python",
   "name": "python",
   "nbconvert_exporter": "python",
   "pygments_lexer": "ipython3",
   "version": "3.8.3"
  }
 },
 "nbformat": 4,
 "nbformat_minor": 4
}
